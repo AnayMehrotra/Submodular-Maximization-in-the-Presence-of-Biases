{
 "cells": [
  {
   "cell_type": "code",
   "execution_count": 1,
   "id": "2b07a89c",
   "metadata": {},
   "outputs": [],
   "source": [
    "import numpy as np\n",
    "import sys\n",
    "import csv\n",
    "import random\n",
    "import copy\n",
    "import string\n",
    "import time\n",
    "import datetime\n",
    "import itertools\n",
    "from tqdm import tqdm\n",
    "from scipy.stats import pareto\n",
    "import matplotlib.pyplot as plt\n",
    "from matplotlib import rc, rcParams\n",
    "rng = np.random.default_rng(int(time.time())) #(1234)\n",
    "from pdb import set_trace as bp"
   ]
  },
  {
   "cell_type": "markdown",
   "id": "ad5d731e",
   "metadata": {},
   "source": [
    "# 1. Helper Functions"
   ]
  },
  {
   "cell_type": "code",
   "execution_count": 2,
   "id": "54630c5a",
   "metadata": {},
   "outputs": [],
   "source": [
    "##########################################\n",
    "#### Functions for plotting Functions  ###\n",
    "##########################################\n",
    "exec(open('../utils.py').read())"
   ]
  },
  {
   "cell_type": "code",
   "execution_count": 3,
   "id": "5f0815f2",
   "metadata": {},
   "outputs": [],
   "source": [
    "##################################################\n",
    "####### Fetch: General Helper Functions  #########\n",
    "##################################################\n",
    "exec(open('../neurips-2022-utils.py').read())"
   ]
  },
  {
   "cell_type": "code",
   "execution_count": 4,
   "id": "0a85ec66",
   "metadata": {},
   "outputs": [],
   "source": [
    "DEBUG = False\n",
    "def print_debug(s):\n",
    "    if DEBUG: print(s)"
   ]
  },
  {
   "cell_type": "code",
   "execution_count": 5,
   "id": "02914ea3",
   "metadata": {},
   "outputs": [],
   "source": [
    "##########################################\n",
    "### Fetch: Algorithms and Baseline ######\n",
    "##########################################\n",
    "exec(open('../neurips-2022-algorithms.py').read())"
   ]
  },
  {
   "cell_type": "code",
   "execution_count": 6,
   "id": "4daea15b",
   "metadata": {},
   "outputs": [],
   "source": [
    "# Verified till here. One change in '../neurips-2022-algorithms.py' so far"
   ]
  },
  {
   "cell_type": "code",
   "execution_count": 7,
   "id": "2fb8196a",
   "metadata": {},
   "outputs": [],
   "source": [
    "SAME_G = True \n",
    "func = lambda x: np.sqrt(x)\n",
    "func2 = lambda x: np.sqrt(x)\n",
    "\n",
    "def F(sol, obs_util, m):\n",
    "    v = 0\n",
    "\n",
    "    for j in range(m):\n",
    "        tmp = np.sum(sorted([obs_util[i][j] for i in sol], reverse=True))\n",
    "        if j != 1:\n",
    "            v += func(tmp) * weight_F[j]\n",
    "        else:\n",
    "            if not SAME_G:\n",
    "                v += func2(tmp) * weight_F[j]\n",
    "            else:\n",
    "                v += func(tmp) * weight_F[j]\n",
    "    return v\n",
    "\n",
    "def marg_F(sol, item, obs_util, m):\n",
    "    sol2 = copy.deepcopy(sol)\n",
    "    sol2.append(item)\n",
    "    return F(sol2, obs_util, m) - F(sol, obs_util, m)\n",
    "\n",
    "def marg_F_mult(sol, items, obs_util, m, pr=False):\n",
    "    v = np.array([0 for j in range(m)])\n",
    "\n",
    "    for j in range(m):\n",
    "        tmp = [obs_util[i][j] for i in sol]\n",
    "        v[j] += np.sum(tmp)\n",
    "\n",
    "    cur_util = 0\n",
    "    for j in range(m):\n",
    "        if j != 1:\n",
    "            cur_util += func(v[j]) * weight_F[j]\n",
    "        else:\n",
    "            if not SAME_G:\n",
    "                cur_util += func2(v[j]) * weight_F[j]\n",
    "            else:\n",
    "                cur_util += func(v[j]) * weight_F[j]\n",
    "\n",
    "    utils = []\n",
    "    for i in items:\n",
    "        if i in sol:\n",
    "            utils.append(0)\n",
    "        else:\n",
    "            assert(obs_util[i][j] >= 0)\n",
    "            new_util = 0\n",
    "            for j in range(m):\n",
    "                if j != 1:\n",
    "                    new_util += func(v[j] + obs_util[i][j]) * weight_F[j]\n",
    "                else:\n",
    "                    if not SAME_G:\n",
    "                        new_util += func2(v[j] + obs_util[i][j]) * weight_F[j]\n",
    "                    else:\n",
    "                        new_util += func(v[j] + obs_util[i][j]) * weight_F[j]\n",
    "            assert(new_util >= cur_util)\n",
    "            utils.append(new_util - cur_util)\n",
    "    return utils\n"
   ]
  },
  {
   "cell_type": "code",
   "execution_count": null,
   "id": "7ad58479",
   "metadata": {},
   "outputs": [],
   "source": []
  },
  {
   "cell_type": "code",
   "execution_count": 8,
   "id": "a899d257",
   "metadata": {},
   "outputs": [],
   "source": [
    "####################################################\n",
    "### Fetch: Helper function for the simulation ######\n",
    "####################################################\n",
    "exec(open('simulation-utils.py').read())"
   ]
  },
  {
   "cell_type": "markdown",
   "id": "3dc5c092",
   "metadata": {},
   "source": [
    "# 2. Parse Data"
   ]
  },
  {
   "cell_type": "code",
   "execution_count": 9,
   "id": "22f3a785",
   "metadata": {
    "code_folding": [
     8
    ]
   },
   "outputs": [],
   "source": [
    "genres = set()\n",
    "movie_ids = []\n",
    "movie_id_to_index = {}\n",
    "user_ids = []\n",
    "movie_names = {}\n",
    "\n",
    "with open('ml-20m/movies.csv') as csv_file:\n",
    "    csv_reader = csv.reader(csv_file, delimiter=',')\n",
    "    i = 0\n",
    "    \n",
    "    for row in csv_reader:\n",
    "        if i == 0: \n",
    "            i += 1\n",
    "            continue \n",
    "            \n",
    "        movie_ids.append(int(row[0]))\n",
    "        movie_id_to_index[int(row[0])] = i-1\n",
    "        movie_names[i-1] = row[1]\n",
    "        \n",
    "        tmp_genres = row[2].split('|')\n",
    "        for g in tmp_genres:\n",
    "            genres.add(g)\n",
    "            \n",
    "        i += 1\n",
    "\n",
    "genres = sorted(list(genres))\n",
    "\n",
    "movie_genres = np.zeros((len(movie_ids), len(genres)))\n",
    "\n",
    "with open('ml-20m/movies.csv') as csv_file:\n",
    "    csv_reader = csv.reader(csv_file, delimiter=',')\n",
    "    i = 0\n",
    "    \n",
    "    for row in csv_reader:\n",
    "        if i == 0: \n",
    "            i += 1\n",
    "            continue \n",
    "         \n",
    "        tmp_genres = row[2].split('|')\n",
    "        for g1 in tmp_genres:\n",
    "            for j, g2 in enumerate(genres):\n",
    "                if g1 == g2:\n",
    "                    movie_genres[i-1][j] = 1\n",
    "                    \n",
    "        i += 1"
   ]
  },
  {
   "cell_type": "code",
   "execution_count": 10,
   "id": "e6280c8d",
   "metadata": {
    "code_folding": [
     6
    ]
   },
   "outputs": [
    {
     "name": "stdout",
     "output_type": "stream",
     "text": [
      "There are 27278 movies\n",
      "There are 20 unique genres\n",
      "On average there are 1.9945010631277953 genres per movie\n",
      "\n",
      "0.0%\tof movies have 0 genre(s)\n",
      "39.7%\tof movies have 1 genre(s)\n",
      "32.29%\tof movies have 2 genre(s)\n",
      "19.54%\tof movies have 3 genre(s)\n",
      "6.32%\tof movies have 4 genre(s)\n",
      "1.75%\tof movies have 5 genre(s)\n",
      "0.3%\tof movies have 6 genre(s)\n",
      "0.07%\tof movies have 7 genre(s)\n",
      "0.02%\tof movies have 8 genre(s)\n",
      "0.0%\tof movies have 9 genre(s)\n",
      "\n",
      "Maximum number of genres of a movie are 10.0\n"
     ]
    }
   ],
   "source": [
    "print(f'There are {len(movie_ids)} movies')\n",
    "print(f'There are {len(genres)} unique genres')\n",
    "print(f'On average there are {np.sum(movie_genres) / len(movie_ids)} genres per movie')\n",
    "\n",
    "print('')\n",
    "\n",
    "for j in range(10):\n",
    "    print(f'{np.round(np.mean(np.sum(movie_genres, axis=1)==j)*100, 2)}%\\tof movies have {j} genre(s)')\n",
    "    \n",
    "print('')\n",
    "\n",
    "print(f'Maximum number of genres of a movie are {np.max(np.sum(movie_genres, axis=1))}')"
   ]
  },
  {
   "cell_type": "code",
   "execution_count": 11,
   "id": "de627f1c",
   "metadata": {},
   "outputs": [
    {
     "data": {
      "text/plain": [
       "['(no genres listed)',\n",
       " 'Action',\n",
       " 'Adventure',\n",
       " 'Animation',\n",
       " 'Children',\n",
       " 'Comedy',\n",
       " 'Crime',\n",
       " 'Documentary',\n",
       " 'Drama',\n",
       " 'Fantasy',\n",
       " 'Film-Noir',\n",
       " 'Horror',\n",
       " 'IMAX',\n",
       " 'Musical',\n",
       " 'Mystery',\n",
       " 'Romance',\n",
       " 'Sci-Fi',\n",
       " 'Thriller',\n",
       " 'War',\n",
       " 'Western']"
      ]
     },
     "execution_count": 11,
     "metadata": {},
     "output_type": "execute_result"
    }
   ],
   "source": [
    "genres"
   ]
  },
  {
   "cell_type": "markdown",
   "id": "32e57810",
   "metadata": {},
   "source": [
    "## 2.1. Fetch Relevance Scores"
   ]
  },
  {
   "cell_type": "code",
   "execution_count": 12,
   "id": "04239f71",
   "metadata": {},
   "outputs": [],
   "source": [
    "# convert genre names to lower case (to match the names of 'tags')\n",
    "for i in range(len(genres)):\n",
    "    genres[i] = genres[i].lower()"
   ]
  },
  {
   "cell_type": "code",
   "execution_count": 13,
   "id": "8d856b5c",
   "metadata": {
    "code_folding": [
     2
    ]
   },
   "outputs": [
    {
     "name": "stderr",
     "output_type": "stream",
     "text": [
      "1129it [00:00, 899405.36it/s]\n"
     ]
    },
    {
     "name": "stdout",
     "output_type": "stream",
     "text": [
      "3 genre(s) are absent from tags\n"
     ]
    },
    {
     "name": "stderr",
     "output_type": "stream",
     "text": [
      "11709769it [00:22, 509773.57it/s]\n"
     ]
    }
   ],
   "source": [
    "tags = []\n",
    "\n",
    "\n",
    "with open('ml-20m/genome-tags.csv') as csv_file:\n",
    "    csv_reader = csv.reader(csv_file, delimiter=',')\n",
    "    i = 0\n",
    "    \n",
    "    for row in tqdm(csv_reader):\n",
    "        if i == 0: \n",
    "            i += 1\n",
    "            continue \n",
    "            \n",
    "        tags.append(row[1])\n",
    "            \n",
    "        i += 1\n",
    "\n",
    "\n",
    "rev_tags = {} # tag name to index mapping\n",
    "for i, t in enumerate(tags):\n",
    "    rev_tags[t] = i\n",
    "    \n",
    "cnt = 0 # count number of genres not in tags \n",
    "for g in genres:\n",
    "    if g not in tags:\n",
    "        cnt += 1\n",
    "        \n",
    "print(f'{cnt} genre(s) are absent from tags')\n",
    "assert(cnt == 3)\n",
    "\n",
    "movie_tag_rel_scores = {}\n",
    "movie_ind_with_scores = set()\n",
    "\n",
    "with open('ml-20m/genome-scores.csv') as csv_file:\n",
    "    csv_reader = csv.reader(csv_file, delimiter=',')\n",
    "    i = 0\n",
    "    \n",
    "    for row in tqdm(csv_reader):\n",
    "        if i == 0: \n",
    "            i += 1\n",
    "            continue\n",
    "        \n",
    "        mov_id = movie_id_to_index[int(row[0])]\n",
    "        tag_id = int(row[1])-1\n",
    "        movie_ind_with_scores.add(mov_id)\n",
    "        score = float(row[2])\n",
    "        \n",
    "        if tags[tag_id] not in genres: continue \n",
    "            \n",
    "        if mov_id not in movie_tag_rel_scores:\n",
    "            movie_tag_rel_scores[mov_id] = {}\n",
    "        \n",
    "        movie_tag_rel_scores[mov_id][tag_id] = score\n",
    "            \n",
    "        i += 1\n"
   ]
  },
  {
   "cell_type": "code",
   "execution_count": 14,
   "id": "a8572655",
   "metadata": {},
   "outputs": [
    {
     "name": "stdout",
     "output_type": "stream",
     "text": [
      "38.06% of the movies have relevance scores\n"
     ]
    }
   ],
   "source": [
    "print(f'{np.round(len(movie_ind_with_scores)/len(movie_ids)*100, 2)}% of the movies have relevance scores')"
   ]
  },
  {
   "cell_type": "markdown",
   "id": "20bb8574",
   "metadata": {},
   "source": [
    "## 2.2. Fetch User Ratings"
   ]
  },
  {
   "cell_type": "code",
   "execution_count": 15,
   "id": "92d1a074",
   "metadata": {},
   "outputs": [],
   "source": [
    "user_ratings = {} # userid x (list of dictionaries describing each rating given by this user_id)\n",
    "movie_rating_cnt = {} # movie index x number of total ratings given to this movie index\n",
    "movie_rating_sum = {} # movie index x sum of total ratings given to this movie index"
   ]
  },
  {
   "cell_type": "code",
   "execution_count": 16,
   "id": "81fbe012",
   "metadata": {},
   "outputs": [],
   "source": [
    "a=1"
   ]
  },
  {
   "cell_type": "code",
   "execution_count": 17,
   "id": "b96bd51d",
   "metadata": {
    "code_folding": []
   },
   "outputs": [
    {
     "name": "stderr",
     "output_type": "stream",
     "text": [
      "20000264it [00:58, 340065.73it/s]\n"
     ]
    }
   ],
   "source": [
    "with open('ml-20m/ratings.csv') as csv_file:\n",
    "    csv_reader = csv.reader(csv_file, delimiter=',')\n",
    "    i = 0\n",
    "    \n",
    "    for row in tqdm(csv_reader):\n",
    "        if i == 0: \n",
    "            i += 1\n",
    "            continue \n",
    "            \n",
    "        user_id = int(row[0]) \n",
    "        mov_ind = movie_id_to_index[int(row[1])]\n",
    "        rating = float(row[2])\n",
    "        \n",
    "        if user_id not in user_ratings:\n",
    "            user_ratings[user_id] = []\n",
    "        if mov_ind not in movie_rating_cnt:\n",
    "            movie_rating_cnt[mov_ind] = 0\n",
    "        if mov_ind not in movie_rating_sum:\n",
    "            movie_rating_sum[mov_ind] = 0\n",
    "\n",
    "        user_ratings[user_id].append({'movie_id': int(row[1]), 'movie_index': mov_ind, 'rating': rating})\n",
    "        movie_rating_cnt[mov_ind] += 1\n",
    "        movie_rating_sum[mov_ind] += rating\n",
    "        \n",
    "        i += 1"
   ]
  },
  {
   "cell_type": "markdown",
   "id": "0c1a4a5b",
   "metadata": {},
   "source": [
    "## 3. Fetch name of lead actor"
   ]
  },
  {
   "cell_type": "code",
   "execution_count": 18,
   "id": "3af895d4",
   "metadata": {},
   "outputs": [],
   "source": [
    "import os\n",
    "import pickle\n",
    "import requests\n",
    "from bs4 import BeautifulSoup\n",
    "from joblib import Parallel, delayed"
   ]
  },
  {
   "cell_type": "code",
   "execution_count": 19,
   "id": "6dcdfdd7",
   "metadata": {
    "code_folding": [],
    "scrolled": true
   },
   "outputs": [],
   "source": [
    "missing = 0\n",
    "parsing_error = 0\n",
    "parsing_errors = []\n",
    "movie_cast = {}\n",
    "cnt_exception = 0\n",
    "\n",
    "if False:\n",
    "    for i in tqdm(movie_ids):\n",
    "        if not os.path.isfile('scraped_pages/'+str(i)+'.html'): \n",
    "            missing += 1\n",
    "            continue\n",
    "\n",
    "        try:\n",
    "            f = open('scraped_pages/'+str(i)+'.html', \"r\")\n",
    "            soup = BeautifulSoup(f.read(), \"html.parser\")\n",
    "            results = soup.find(id = \"main-container\")\n",
    "\n",
    "            data_elements = results.find_all(\"div\", class_=\"heading-and-data\")\n",
    "\n",
    "            cast = data_elements[-2].find_all(\"span\")\n",
    "\n",
    "            movie_cast[i] = []\n",
    "\n",
    "            for c in cast:\n",
    "                movie_cast[i].append(c.find_all(\"a\")[0].text)\n",
    "        except:\n",
    "            print(f'Error in parsing movie {i}')\n",
    "            parsing_errors.append(i)\n",
    "\n",
    "            cnt_exception += 1\n",
    "            \n",
    "    \n",
    "    filehandler = open(f\"movie_cast\"+file_str()+rand_string(5)+\".obj\",\"wb\")\n",
    "    pickle.dump(movie_cast, filehandler)\n",
    "    filehandler.close()\n"
   ]
  },
  {
   "cell_type": "code",
   "execution_count": 20,
   "id": "4bda7681",
   "metadata": {},
   "outputs": [],
   "source": [
    "filehandler = open(f\"movie_castH00M17S52_05-13-22gdipj.obj\",\"rb\")\n",
    "movie_cast = pickle.load(filehandler) # a dictionary: movie_id x a list of cast members' names [movie id is changed to movie index below]\n",
    "filehandler.close()"
   ]
  },
  {
   "cell_type": "code",
   "execution_count": 21,
   "id": "fc0c06db",
   "metadata": {},
   "outputs": [],
   "source": [
    "movie_cast_ind = {}\n",
    "\n",
    "for k in movie_cast.keys():\n",
    "    movie_cast_ind[movie_id_to_index[k]] = copy.deepcopy(movie_cast[k])"
   ]
  },
  {
   "cell_type": "code",
   "execution_count": 22,
   "id": "b24c3bb2",
   "metadata": {},
   "outputs": [],
   "source": [
    "movie_cast = movie_cast_ind # a dictionary: movie index x a list of cast members' names"
   ]
  },
  {
   "cell_type": "markdown",
   "id": "7b022aed",
   "metadata": {},
   "source": [
    "## 4. Predict (binary) genders of lead actors"
   ]
  },
  {
   "cell_type": "code",
   "execution_count": 23,
   "id": "bcca4ba0",
   "metadata": {},
   "outputs": [],
   "source": [
    "run_genderize = False\n",
    "if run_genderize:\n",
    "    # Note: There are 27k movies in the dataset. We will call Genderize once for every movie\n",
    "    # This makes 27k calls to Genderize which exceeds the 1k free API calls offered by Genderize\n",
    "    # We provide a pickled file with responses from Gendrize\n",
    "    # But if you would like to directly call the Genderize API pleas enter an API key below\n",
    "    from genderize import Genderize\n",
    "    \n",
    "    API_KEY = \"\"\n",
    "    genderize = Genderize(\n",
    "    user_agent='GenderizeDocs/0.0',\n",
    "    api_key=API_KEY,\n",
    "    timeout=5.0)"
   ]
  },
  {
   "cell_type": "code",
   "execution_count": null,
   "id": "2b3988e8",
   "metadata": {},
   "outputs": [],
   "source": []
  },
  {
   "cell_type": "code",
   "execution_count": 24,
   "id": "ee6e6d57",
   "metadata": {},
   "outputs": [],
   "source": [
    "movie_ind_present = list(movie_cast.keys()) "
   ]
  },
  {
   "cell_type": "code",
   "execution_count": 25,
   "id": "d87ddbb1",
   "metadata": {},
   "outputs": [],
   "source": [
    "genres_matching_tags = copy.deepcopy(genres)\n",
    "genres_matching_tags.remove('film-noir')\n",
    "genres_matching_tags.remove('imax')\n",
    "genres_matching_tags.remove('(no genres listed)')\n",
    "genres_matching_tags = sorted(genres_matching_tags)"
   ]
  },
  {
   "cell_type": "code",
   "execution_count": 26,
   "id": "455a064c",
   "metadata": {},
   "outputs": [
    {
     "name": "stderr",
     "output_type": "stream",
     "text": [
      "100%|██████████| 26429/26429 [00:00<00:00, 2432228.81it/s]\n"
     ]
    }
   ],
   "source": [
    "to_delete = []\n",
    "for ind in tqdm(movie_ind_present):\n",
    "    cast = movie_cast[ind]\n",
    "    if len(cast) == 0:\n",
    "        to_delete.append(ind)\n",
    "\n",
    "for m in to_delete:\n",
    "    movie_ind_present.remove(m)"
   ]
  },
  {
   "cell_type": "code",
   "execution_count": 27,
   "id": "18cd80ce",
   "metadata": {
    "code_folding": [
     3,
     19
    ]
   },
   "outputs": [
    {
     "name": "stderr",
     "output_type": "stream",
     "text": [
      "100%|██████████| 26428/26428 [00:00<00:00, 820372.31it/s]\n"
     ]
    }
   ],
   "source": [
    "li = []\n",
    "cnt = 0\n",
    "j = 0\n",
    "for ind in tqdm(movie_ind_present):\n",
    "    if cnt % 100 == 0:\n",
    "        li.append([])\n",
    "        j += 1\n",
    "        \n",
    "    cast = movie_cast[ind]\n",
    "    if len(cast) == 0:\n",
    "        print('oops')\n",
    "        continue \n",
    "    lead = cast[0]\n",
    "    name = lead.split(' ')\n",
    "    first_name = name[0]\n",
    "    li[j-1].append((ind, first_name))\n",
    "    cnt += 1\n",
    "\n",
    "predictions_all = []\n",
    "\n",
    "############################\n",
    "### set `run_genderize=True` to call Genderize API (not necessary to execute the rest of the code)\n",
    "############################\n",
    "if run_genderize:\n",
    "    li = []\n",
    "    cnt = 0\n",
    "    j = 0\n",
    "    for i in tqdm(movie_ids_present):\n",
    "        if cnt % 100 == 0:\n",
    "            li.append([])\n",
    "            j += 1\n",
    "\n",
    "        cast = movie_cast[i]\n",
    "        if len(cast) == 0:\n",
    "            continue \n",
    "        lead = cast[0]\n",
    "        name = lead.split(' ')\n",
    "        first_name = name[0]\n",
    "        li[j-1].append((i, first_name))\n",
    "        cnt += 1\n",
    "\n",
    "    predictions_all = []\n",
    "\n",
    "    for jj in tqdm(range(j)):\n",
    "        names = [ll[1] for ll in li[jj]]\n",
    "\n",
    "        predictions = genderize.get(names)\n",
    "        predictions_all.extend(predictions)\n",
    "\n",
    "    filehandler = open(f\"predictions_all\"+file_str()+rand_string(5)+\".obj\",\"wb\")\n",
    "    pickle.dump(predictions_all, filehandler)\n",
    "    filehandler.close()"
   ]
  },
  {
   "cell_type": "code",
   "execution_count": null,
   "id": "557cf029",
   "metadata": {},
   "outputs": [],
   "source": []
  },
  {
   "cell_type": "code",
   "execution_count": 28,
   "id": "64722391",
   "metadata": {},
   "outputs": [
    {
     "data": {
      "text/plain": [
       "[]"
      ]
     },
     "execution_count": 28,
     "metadata": {},
     "output_type": "execute_result"
    }
   ],
   "source": [
    "predictions_all"
   ]
  },
  {
   "cell_type": "code",
   "execution_count": 29,
   "id": "2b4669fb",
   "metadata": {},
   "outputs": [],
   "source": [
    "# load pickled responses from Genderize\n",
    "if not run_genderize:\n",
    "    filehandler = open(f\"predictions_allH00M17S50_05-13-22liism.obj\",\"rb\")\n",
    "    predictions_all = pickle.load(filehandler) \n",
    "    filehandler.close()"
   ]
  },
  {
   "cell_type": "code",
   "execution_count": 30,
   "id": "7d3b6b7a",
   "metadata": {},
   "outputs": [],
   "source": [
    "assert(len(predictions_all) == len(movie_ind_present))"
   ]
  },
  {
   "cell_type": "code",
   "execution_count": 31,
   "id": "d0881a9a",
   "metadata": {},
   "outputs": [],
   "source": [
    "for i in range(len(predictions_all)):\n",
    "    \n",
    "    if movie_cast[movie_ind_present[i]][0].split(' ')[0] != predictions_all[i]['name']:\n",
    "        print(i)\n",
    "        print(predictions_all[i])\n",
    "        print(movie_cast[movie_ind_present[i]][0])\n",
    "        assert(False)\n",
    "    \n",
    "    # print(movie_cast[movie_ind_present[i]])"
   ]
  },
  {
   "cell_type": "code",
   "execution_count": null,
   "id": "24b61827",
   "metadata": {},
   "outputs": [],
   "source": []
  },
  {
   "cell_type": "code",
   "execution_count": 32,
   "id": "210f6532",
   "metadata": {
    "code_folding": []
   },
   "outputs": [
    {
     "name": "stderr",
     "output_type": "stream",
     "text": [
      "26428it [00:00, 1164066.48it/s]"
     ]
    },
    {
     "name": "stdout",
     "output_type": "stream",
     "text": [
      "Genderize predicts the gender of the lead actor, with confidence 0.9 or higher for 0.83 fraction of the movies (with scores)\n"
     ]
    },
    {
     "name": "stderr",
     "output_type": "stream",
     "text": [
      "\n"
     ]
    }
   ],
   "source": [
    "grps = [[], []]\n",
    "threshold_prob = 0.1 ### set this threshold to 0.5 to compute stats for Table 3 in the appendix\n",
    "threshold_count = 100\n",
    "fail_cnt = 0\n",
    "\n",
    "for i, ind in tqdm(enumerate(movie_ind_present)):\n",
    "    prediction = predictions_all[i]\n",
    "    \n",
    "    if ind not in movie_ind_with_scores:\n",
    "        continue \n",
    "\n",
    "    pred_female = -1\n",
    "    if prediction['gender'] == 'female':\n",
    "        pred_female = prediction['probability']\n",
    "    elif prediction['gender'] == 'male':\n",
    "        pred_female = 1-prediction['probability']\n",
    "    else:\n",
    "        fail_cnt += 1\n",
    "        continue \n",
    "\n",
    "    if pred_female > 1 - threshold_prob:\n",
    "        grps[1].append(ind)\n",
    "    elif pred_female < threshold_prob:\n",
    "        grps[0].append(ind)\n",
    "    else:\n",
    "        continue \n",
    "\n",
    "print(f'Genderize predicts the gender of the lead actor, with confidence',\n",
    "  f'{1-threshold_prob} or higher for',\n",
    "  f'{np.round((len(grps[0])+len(grps[1]))/len(movie_ind_with_scores), 2)} fraction of the movies (with scores)')"
   ]
  },
  {
   "cell_type": "code",
   "execution_count": 33,
   "id": "cbac93d6",
   "metadata": {},
   "outputs": [
    {
     "name": "stdout",
     "output_type": "stream",
     "text": [
      "number of male-led movies, female-led movies, and fraction of movies led by females\n"
     ]
    },
    {
     "data": {
      "text/plain": [
       "(6612, 1990, 0.23134154847709834)"
      ]
     },
     "execution_count": 33,
     "metadata": {},
     "output_type": "execute_result"
    }
   ],
   "source": [
    "print('number of male-led movies, female-led movies, and fraction of movies led by females')\n",
    "len(grps[0]), len(grps[1]), len(grps[1])/(len(grps[1])+len(grps[0]))"
   ]
  },
  {
   "cell_type": "markdown",
   "id": "2618883b",
   "metadata": {},
   "source": [
    "### The data in the cell right below is not reported in the paper"
   ]
  },
  {
   "cell_type": "code",
   "execution_count": 34,
   "id": "91bef1e1",
   "metadata": {},
   "outputs": [
    {
     "name": "stdout",
     "output_type": "stream",
     "text": [
      "AVERAGE RELEVANCE SCORES OF FEMALE-LED AND MALE-LED MOVIES IN DIFFERENT GENRES\n",
      "\n",
      "Genre     \tMale-led\tFemale-led\tRatio (female-led/male-led)\n",
      "--------------------------------------------------------------------------\n",
      "action     \t0.2923\t\t0.1753\t\t0.5997\n",
      "adventure  \t0.2396\t\t0.1684\t\t0.703\n",
      "animation  \t0.0852\t\t0.0682\t\t0.8005\n",
      "children   \t0.1421\t\t0.1451\t\t1.0212\n",
      "comedy     \t0.2667\t\t0.1882\t\t0.7057\n",
      "crime      \t0.179\t\t0.1221\t\t0.6822\n",
      "documentary \t0.0789\t\t0.0748\t\t0.9482\n",
      "drama      \t0.3629\t\t0.358\t\t0.9865\n",
      "fantasy    \t0.1931\t\t0.1766\t\t0.9144\n",
      "horror     \t0.1042\t\t0.1366\t\t1.3104\n",
      "musical    \t0.0827\t\t0.0934\t\t1.1295\n",
      "mystery    \t0.1093\t\t0.1045\t\t0.9559\n",
      "romance    \t0.2284\t\t0.2842\t\t1.244\n",
      "sci-fi     \t0.125\t\t0.0868\t\t0.6944\n",
      "thriller   \t0.1953\t\t0.1615\t\t0.8269\n",
      "war        \t0.0916\t\t0.0588\t\t0.6422\n",
      "western    \t0.0519\t\t0.0313\t\t0.6032\n",
      "--------------------------------------------------------------------------\n",
      "Total      \t2.8281\t\t2.4337\t\t0.8605\n",
      "==========================================================================\n"
     ]
    }
   ],
   "source": [
    "####################################################################################\n",
    "####################################################################################\n",
    "### AVERAGE RELEVANCE SCORES OF FEMALE-LED AND MALE-LED MOVIES IN DIFFERENT GENRES\n",
    "####################################################################################\n",
    "####################################################################################\n",
    "grp_avgs = [np.zeros(len(genres_matching_tags)), np.zeros(len(genres_matching_tags))]\n",
    "\n",
    "fg=1\n",
    "cnt=0\n",
    "missing = {}\n",
    "for l in [0, 1]:\n",
    "    for ind in grps[l]:\n",
    "        for i, g in enumerate(genres_matching_tags):\n",
    "            if ind not in movie_tag_rel_scores:\n",
    "                missing[ind]=0\n",
    "                print(ind)\n",
    "                assert(False)\n",
    "            else:\n",
    "                grp_avgs[l][i] += movie_tag_rel_scores[ind][rev_tags[g]]\n",
    "\n",
    "    grp_avgs[l] /= len(grps[l])\n",
    "    \n",
    "print('AVERAGE RELEVANCE SCORES OF FEMALE-LED AND MALE-LED MOVIES IN DIFFERENT GENRES')\n",
    "print('')\n",
    "print(f\"Genre{' '*(10-len('Genre'))}\\tMale-led\\tFemale-led\\tRatio (female-led/male-led)\")\n",
    "print('-'*74)\n",
    "for i, g in enumerate(genres_matching_tags):\n",
    "    print(f\"{g}{' '*(10-len(g))} \\t{np.round(grp_avgs[0][i], 4)}\\t\\t{np.round(grp_avgs[1][i], 4)}\\t\\t{np.round(grp_avgs[1][i]/grp_avgs[0][i],4)}\")\n",
    "print('-'*74)\n",
    "print(f\"{'Total'}{' '*(10-len('Total'))} \\t{np.round(np.sum(grp_avgs[0]), 4)}\\t\\t{np.round(np.sum(grp_avgs[1]), 4)}\\t\\t{np.round(np.sum(grp_avgs[1])/np.sum(grp_avgs[0]),4)}\")    \n",
    "print('='*74)"
   ]
  },
  {
   "cell_type": "code",
   "execution_count": 35,
   "id": "0ccafbb7",
   "metadata": {},
   "outputs": [
    {
     "data": {
      "text/plain": [
       "0"
      ]
     },
     "execution_count": 35,
     "metadata": {},
     "output_type": "execute_result"
    }
   ],
   "source": [
    "cnt"
   ]
  },
  {
   "cell_type": "code",
   "execution_count": 36,
   "id": "0510cd60",
   "metadata": {},
   "outputs": [
    {
     "data": {
      "text/plain": [
       "array([0., 0., 1., 1., 1., 1., 0., 0., 0., 1., 0., 0., 0., 0., 0., 0., 0.,\n",
       "       0., 0., 0.])"
      ]
     },
     "execution_count": 36,
     "metadata": {},
     "output_type": "execute_result"
    }
   ],
   "source": [
    "movie_genres[0]"
   ]
  },
  {
   "cell_type": "markdown",
   "id": "3023788b",
   "metadata": {},
   "source": [
    "### Table 1 in paper"
   ]
  },
  {
   "cell_type": "code",
   "execution_count": 37,
   "id": "05fe06df",
   "metadata": {},
   "outputs": [
    {
     "name": "stderr",
     "output_type": "stream",
     "text": [
      "100%|██████████| 6612/6612 [00:00<00:00, 72478.69it/s]\n",
      "100%|██████████| 1990/1990 [00:00<00:00, 64548.71it/s]"
     ]
    },
    {
     "name": "stdout",
     "output_type": "stream",
     "text": [
      "AVERAGE RELEVANCE SCORES OF FEMALE-LED AND MALE-LED MOVIES IN DIFFERENT GENRES (COMPUTED OVER MOVIES IN THIS GENRE)\n",
      "\n",
      "Genre     \tMale-led\tFemale-led\tRatio (female-led/male-led)\n",
      "--------------------------------------------------------------------------\n",
      "action     \t0.0604\t\t0.0213\t\t0.352\n",
      "adventure  \t0.0334\t\t0.0146\t\t0.437\n",
      "animation  \t0.0187\t\t0.0138\t\t0.741\n",
      "children   \t0.0168\t\t0.0164\t\t0.9779\n",
      "comedy     \t0.0929\t\t0.0646\t\t0.6951\n",
      "crime      \t0.0311\t\t0.0135\t\t0.4351\n",
      "documentary \t0.0157\t\t0.0141\t\t0.903\n",
      "drama      \t0.1035\t\t0.1238\t\t1.1961\n",
      "fantasy    \t0.0165\t\t0.0145\t\t0.8798\n",
      "horror     \t0.0293\t\t0.0489\t\t1.6675\n",
      "musical    \t0.0105\t\t0.0162\t\t1.5458\n",
      "mystery    \t0.0128\t\t0.0123\t\t0.9612\n",
      "romance    \t0.0306\t\t0.0689\t\t2.2492\n",
      "sci-fi     \t0.0287\t\t0.0169\t\t0.5878\n",
      "thriller   \t0.0378\t\t0.0316\t\t0.8368\n",
      "war        \t0.014\t\t0.0061\t\t0.4371\n",
      "western    \t0.0093\t\t0.0027\t\t0.2923\n",
      "--------------------------------------------------------------------------\n",
      "Total     \t0.562\t\t0.5004\t\t0.8904\n",
      "==========================================================================\n"
     ]
    },
    {
     "name": "stderr",
     "output_type": "stream",
     "text": [
      "\n"
     ]
    }
   ],
   "source": [
    "####################################################################################\n",
    "####################################################################################\n",
    "### AVERAGE RELEVANCE SCORES OF FEMALE-LED AND MALE-LED MOVIES IN DIFFERENT GENRES (COMPUTED ONLY OVER MOVIES IN THE SPECIFIC GENRE)\n",
    "####################################################################################\n",
    "####################################################################################\n",
    "\n",
    "grp_avgs_conditioned_on_genre = [np.zeros(len(genres_matching_tags)), np.zeros(len(genres_matching_tags))]\n",
    "\n",
    "mp_genre_to_ind = {}\n",
    "for i, g in enumerate(genres):\n",
    "    mp_genre_to_ind[g] = i\n",
    "\n",
    "missing = {}\n",
    "for l in [0, 1]:\n",
    "    cnt = 0\n",
    "    for ind in tqdm(grps[l]):\n",
    "        for i, g in enumerate(genres_matching_tags):\n",
    "            g_ind = mp_genre_to_ind[g]\n",
    "            \n",
    "            if movie_genres[ind][g_ind] == 0: continue \n",
    "                \n",
    "            cnt += 1\n",
    "            \n",
    "            if ind not in movie_tag_rel_scores:\n",
    "                missing[ind]=0\n",
    "                print(ind)\n",
    "                assert(False)\n",
    "            else:\n",
    "                grp_avgs_conditioned_on_genre[l][i] += movie_tag_rel_scores[ind][rev_tags[g]]\n",
    "\n",
    "\n",
    "    grp_avgs_conditioned_on_genre[l] /= cnt \n",
    "    \n",
    "print('AVERAGE RELEVANCE SCORES OF FEMALE-LED AND MALE-LED MOVIES IN DIFFERENT GENRES (COMPUTED OVER MOVIES IN THIS GENRE)')\n",
    "print('')\n",
    "print(f\"Genre{' '*(10-len('Genre'))}\\tMale-led\\tFemale-led\\tRatio (female-led/male-led)\")\n",
    "print('-'*74)\n",
    "for i, g in enumerate(genres_matching_tags):\n",
    "    print(f\"{g}{' '*(10-len(g))} \\t{np.round(grp_avgs_conditioned_on_genre[0][i], 4)}\\t\\t{np.round(grp_avgs_conditioned_on_genre[1][i], 4)}\\t\\t{np.round(grp_avgs_conditioned_on_genre[1][i]/grp_avgs_conditioned_on_genre[0][i],4)}\")\n",
    "print('-'*74)\n",
    "print(f\"{'Total'}{' '*(10-len('Totalc'))} \\t{np.round(np.sum(grp_avgs_conditioned_on_genre[0]), 4)}\\t\\t{np.round(np.sum(grp_avgs_conditioned_on_genre[1]), 4)}\\t\\t{np.round(np.sum(grp_avgs_conditioned_on_genre[1])/np.sum(grp_avgs_conditioned_on_genre[0]),4)}\")    \n",
    "print('='*74)"
   ]
  },
  {
   "cell_type": "code",
   "execution_count": 38,
   "id": "e939cff8",
   "metadata": {},
   "outputs": [],
   "source": [
    "## The cell below is not in the previous version !!!!"
   ]
  },
  {
   "cell_type": "code",
   "execution_count": 39,
   "id": "b3e93095",
   "metadata": {},
   "outputs": [],
   "source": [
    "stereotypically_men_genre = []\n",
    "\n",
    "i = -1\n",
    "for j, g in enumerate(genres):\n",
    "    if g not in genres_matching_tags:\n",
    "        continue\n",
    "    i += 1\n",
    "    ratio = grp_avgs_conditioned_on_genre[1][i] / grp_avgs_conditioned_on_genre[0][i]\n",
    "    \n",
    "    if ratio <= 0.5:\n",
    "        stereotypically_men_genre.append(j)"
   ]
  },
  {
   "cell_type": "markdown",
   "id": "c2b9caf7",
   "metadata": {},
   "source": [
    "### Table 2 in paper"
   ]
  },
  {
   "cell_type": "code",
   "execution_count": 40,
   "id": "2ae78042",
   "metadata": {},
   "outputs": [
    {
     "name": "stderr",
     "output_type": "stream",
     "text": [
      "\r",
      "  0%|          | 0/6612 [00:00<?, ?it/s]"
     ]
    },
    {
     "name": "stdout",
     "output_type": "stream",
     "text": [
      "163 3.445394874659591 1.0\n",
      "210 2.8890041493775933 2.0\n",
      "266 3.496258734772123 3.0\n",
      "383 3.195323383084577 4.0\n",
      "432 2.735470785552695 5.0\n",
      "458 3.161290322580645 6.0\n",
      "487 2.6195121951219513 7.0\n",
      "553 3.6974995051791253 8.0\n",
      "590 3.7284654361201595 9.0\n",
      "599 4.004725897920605 10.0\n",
      "714 3.9047475052918053 11.0\n",
      "800 4.074902723735408 12.0\n",
      "964 3.410557184750733 13.0\n",
      "967 2.7884615384615383 14.0\n",
      "1007 2.9375 15.0\n",
      "1181 3.0396039603960396 16.0\n",
      "1201 4.123240894039735 17.0\n",
      "1254 4.161396702230844 18.0\n",
      "1266 3.9883400466398133 19.0\n",
      "1283 4.075288403157256 20.0\n",
      "1304 4.0536379997428975 21.0\n",
      "1378 3.286454478164323 22.0\n",
      "1379 2.9722591362126245 23.0\n",
      "1408 3.7207504630002415 24.0\n",
      "1887 2.6232142857142855 25.0\n",
      "1928 3.080246913580247 26.0\n",
      "2012 3.249264854998986 27.0\n",
      "2016 2.5960187353629975 28.0\n",
      "2055 2.731132075471698 29.0\n",
      "2070 3.9541571753986333 30.0\n",
      "2103 2.972093023255814 31.0\n",
      "2142 2.9944289693593316 32.0\n",
      "2328 2.774906600249066 33.0\n",
      "2401 3.731103552532124 34.0\n",
      "2441 3.1035353535353534 35.0\n",
      "2701 2.292716071752129"
     ]
    },
    {
     "name": "stderr",
     "output_type": "stream",
     "text": [
      "100%|██████████| 6612/6612 [00:00<00:00, 39964.69it/s]\n"
     ]
    },
    {
     "name": "stdout",
     "output_type": "stream",
     "text": [
      " 36.0\n",
      "2921 3.8309197651663407 37.0\n",
      "2922 3.636952498457742 38.0\n",
      "2951 3.9353664087391897 39.0\n",
      "3025 2.8684210526315788 40.0\n",
      "3037 3.980287627076618 41.0\n",
      "3074 3.766851980542043 42.0\n",
      "3093 3.812278211497516 43.0\n",
      "3122 3.208904109589041 44.0\n",
      "3133 3.6201716738197427 45.0\n",
      "3267 3.6335311572700295 46.0\n",
      "3311 3.6806167400881056 47.0\n",
      "3365 3.992951127819549 48.0\n",
      "3368 3.7507163323782233 49.0\n",
      "3467 3.9725490196078432 50.0\n",
      "3487 3.6232032854209444 51.0\n",
      "3494 3.6357302118171684 52.0\n",
      "3508 3.9344689993861266 53.0\n",
      "3671 3.876319041734005 54.0\n",
      "3681 3.9730487278999567 55.0\n",
      "3727 3.628054298642534 56.0\n",
      "3737 3.783505154639175 57.0\n",
      "3806 3.088235294117647 58.0\n",
      "3871 3.7736009044658 59.0\n",
      "4031 2.89207258834766 60.0\n",
      "4035 3.2423312883435584 61.0\n",
      "4042 3.323434991974318 62.0\n",
      "4045 3.246212121212121 63.0\n",
      "4049 3.3705882352941177 64.0\n",
      "4319 3.1587301587301586 65.0\n",
      "4320 2.8541666666666665 66.0\n",
      "4321 3.318992579908676 67.0\n",
      "4323 3.5861244019138754 68.0\n",
      "4324 3.25 69.0\n",
      "4329 3.876126126126126 70.0\n",
      "4406 3.9748376623376624 71.0\n",
      "4411 3.462857142857143 72.0\n",
      "4534 3.250909090909091 73.0\n",
      "4535 3.7256596906278436 74.0\n",
      "4548 2.7142857142857144 75.0\n",
      "4710 3.694890510948905 76.0\n",
      "4721 2.854022988505747 77.0\n",
      "4785 3.61328125 78.0\n",
      "4790 2.9166666666666665 79.0\n",
      "4791 3.3661971830985915 80.0\n",
      "4894 2.6762295081967213 81.0\n",
      "4962 2.538135593220339 82.0\n",
      "5057 2.9 83.0\n",
      "5063 3.352201257861635 84.0\n",
      "5143 3.1554054054054053 85.0\n",
      "5199 3.5046511627906978 86.0\n",
      "5230 3.340625 87.0\n",
      "5300 3.637745974955277 88.0\n",
      "5389 3.056640625 89.0\n",
      "5399 3.115740740740741 90.0\n",
      "5412 2.7037037037037037 91.0\n",
      "5426 3.289855072463768 92.0\n",
      "5429 3.036363636363636 93.0\n",
      "5431 3.0246478873239435 94.0\n",
      "5435 3.622950819672131 95.0\n",
      "5440 3.6463104325699747 96.0\n",
      "5456 2.1700507614213196 97.0\n",
      "5550 2.5833333333333335 98.0\n",
      "5653 3.4842105263157896 99.0\n",
      "5699 3.2666666666666666 100.0\n",
      "5761 2.4285714285714284 101.0\n",
      "5826 3.6127717391304346 102.0\n",
      "6082 3.7114285714285713 103.0\n",
      "6259 3.10989010989011 104.0\n",
      "6356 3.538563829787234 105.0\n",
      "6386 3.1666666666666665 106.0\n",
      "6392 3.29296875 107.0\n",
      "6394 3.4371584699453552 108.0\n",
      "6401 3.3098159509202456 109.0\n",
      "6409 3.5637254901960786 110.0\n",
      "6412 3.74375 111.0\n",
      "6413 3.1118210862619806 112.0\n",
      "6422 3.701492537313433 113.0\n",
      "6426 3.4244186046511627 114.0\n",
      "6429 3.7189922480620154 115.0\n",
      "6455 3.2884615384615383 116.0\n",
      "6461 3.8926458157227386 117.0\n",
      "6462 3.225806451612903 118.0\n",
      "6469 3.1204819277108435 119.0\n",
      "6470 3.282142857142857 120.0\n",
      "6478 3.412451361867704 121.0\n",
      "6617 3.6061746987951806 122.0\n",
      "6652 3.2450331125827816 123.0\n",
      "6826 2.9626168224299065 124.0\n",
      "7027 3.693267776096823 125.0\n",
      "7070 3.906307977736549 126.0\n",
      "7210 3.8782201405152223 127.0\n",
      "7218 3.9141304347826087 128.0\n",
      "7379 2.975501113585746 129.0\n",
      "7614 3.457654723127036 130.0\n",
      "7617 3.3827433628318584 131.0\n",
      "7889 3.4927536231884058 132.0\n",
      "7894 3.584070796460177 133.0\n",
      "7896 3.6076555023923444 134.0\n",
      "7897 3.5839160839160837 135.0\n",
      "7898 3.2916666666666665 136.0\n",
      "8039 3.6589912280701755 137.0\n",
      "8094 3.8283858998144713 138.0\n",
      "8334 3.630841121495327 139.0\n",
      "8481 3.5388888888888888 140.0\n",
      "8657 3.370967741935484 141.0\n",
      "25938 3.581578947368421 142.0\n",
      "25961 3.6262626262626263 143.0\n",
      "26101 3.539473684210526 144.0\n",
      "26181 3.280952380952381 145.0\n",
      "26249 3.4722222222222223 146.0\n",
      "26258 3.836764705882353 147.0\n",
      "26294 3.506 148.0\n",
      "26371 3.0 149.0\n",
      "26649 3.901315789473684 150.0\n",
      "26750 3.3891050583657587 151.0\n",
      "26925 3.4475806451612905 152.0\n",
      "27450 2.925531914893617 153.0\n",
      "30952 3.293103448275862 154.0\n",
      "31485 3.603932584269663 155.0\n",
      "32392 3.035211267605634 156.0\n",
      "37211 3.237704918032787 157.0\n",
      "39381 3.7646511627906976 158.0\n",
      "39435 3.079865016872891 159.0\n",
      "40988 3.3434343434343434 160.0\n",
      "44168 3.5560344827586206 161.0\n",
      "44978 3.0 162.0\n",
      "47723 3.5153846153846153 163.0\n",
      "51638 3.3092105263157894 164.0\n",
      "52321 3.2976878612716765 165.0\n",
      "54997 3.7736507936507935 166.0\n",
      "55363 3.641449275362319 167.0\n",
      "56782 3.94563347983948 168.0\n",
      "61289 3.0819209039548023 169.0\n",
      "61986 3.378787878787879 170.0\n",
      "78467 2.354591836734694 171.0\n",
      "81132 2.987012987012987 172.0\n",
      "83613 3.029377880184332 173.0\n",
      "84944 3.5062919463087248 174.0\n",
      "103384 3.0306748466257667 175.0\n",
      "111743 2.8705583756345177 176.0\n"
     ]
    },
    {
     "name": "stderr",
     "output_type": "stream",
     "text": [
      "\r",
      "  0%|          | 0/1990 [00:00<?, ?it/s]"
     ]
    },
    {
     "name": "stdout",
     "output_type": "stream",
     "text": [
      "303 3.0401727861771057 1.0\n",
      "416 2.705467869222097 2.0\n",
      "948 3.7430184194890077 3.0\n",
      "1209 4.128545495802133 4.0\n",
      "3644 3.1640625 5.0\n",
      "3792 3.3353413654618476 6.0\n",
      "3873 3.5886792452830187 7.0\n",
      "4428 3.5982456140350876 8.0\n",
      "5372 3.3372549019607844 9.0\n",
      "5375 "
     ]
    },
    {
     "name": "stderr",
     "output_type": "stream",
     "text": [
      "\r",
      "100%|██████████| 1990/1990 [00:00<00:00, 50738.68it/s]"
     ]
    },
    {
     "name": "stdout",
     "output_type": "stream",
     "text": [
      "3.2934782608695654 10.0\n",
      "6428 3.506006006006006 11.0\n",
      "6785 3.5200708382526567 12.0\n",
      "6950 3.194954128440367 13.0\n",
      "7072 3.8491784037558685 14.0\n",
      "7374 2.7526501766784452 15.0\n",
      "8227 3.2701149425287355 16.0\n",
      "8522 3.3780487804878048 17.0\n",
      "63853 3.2448200654307526 18.0\n",
      "85790 3.2419354838709675 19.0\n",
      "Genre: action    \tRatio: 0.98\n",
      "\t          \tAverages: 3.11 (0.53),\t3.04 (0.54)\n",
      "Genre: adventure \tRatio: 0.95\n",
      "\t          \tAverages: 3.22 (0.51),\t3.07 (0.60)\n",
      "Genre: animation \tRatio: 1.03\n",
      "\t          \tAverages: 3.32 (0.45),\t3.43 (0.49)\n",
      "Genre: children  \tRatio: 1.05\n",
      "\t          \tAverages: 3.03 (0.54),\t3.18 (0.53)\n",
      "Genre: comedy    \tRatio: 1.00\n",
      "\t          \tAverages: 3.16 (0.53),\t3.15 (0.48)\n",
      "Genre: crime     \tRatio: 0.96\n",
      "\t          \tAverages: 3.36 (0.45),\t3.24 (0.50)\n",
      "Genre: documentary\tRatio: 1.00\n",
      "\t          \tAverages: 3.61 (0.41),\t3.59 (0.34)\n",
      "Genre: drama     \tRatio: 0.99\n",
      "\t          \tAverages: 3.44 (0.40),\t3.40 (0.40)\n",
      "Genre: fantasy   \tRatio: 1.01\n",
      "\t          \tAverages: 3.22 (0.52),\t3.24 (0.48)\n",
      "Genre: horror    \tRatio: 1.00\n",
      "\t          \tAverages: 2.88 (0.57),\t2.88 (0.53)\n",
      "Genre: musical   \tRatio: 0.98\n",
      "\t          \tAverages: 3.36 (0.43),\t3.30 (0.46)\n",
      "Genre: mystery   \tRatio: 0.94\n",
      "\t          \tAverages: 3.41 (0.44),\t3.21 (0.50)\n",
      "Genre: romance   \tRatio: 0.98\n",
      "\t          \tAverages: 3.37 (0.43),\t3.31 (0.45)\n",
      "Genre: sci-fi    \tRatio: 0.99\n",
      "\t          \tAverages: 3.11 (0.57),\t3.07 (0.57)\n",
      "Genre: thriller  \tRatio: 0.96\n",
      "\t          \tAverages: 3.25 (0.47),\t3.12 (0.49)\n",
      "Genre: war       \tRatio: 1.03\n",
      "\t          \tAverages: 3.51 (0.45),\t3.61 (0.31)\n",
      "Genre: western   \tRatio: 0.99\n",
      "\t          \tAverages: 3.38 (0.41),\t3.36 (0.34)\n"
     ]
    },
    {
     "name": "stderr",
     "output_type": "stream",
     "text": [
      "\n"
     ]
    }
   ],
   "source": [
    "####################################################################################\n",
    "####################################################################################\n",
    "### AVERAGE USER RATINGS OF FEMALE-LED AND MALE-LED MOVIES IN DIFFERENT GENRES (COMPUTED ONLY OVER MOVIES IN THE SPECIFIC GENRE)\n",
    "####################################################################################\n",
    "####################################################################################\n",
    "\n",
    "\n",
    "grp_avg_ratings_conditioned_on_genre = [[[] for i in genres_matching_tags], [[] for i in genres_matching_tags]]\n",
    "\n",
    "for l in [0, 1]:\n",
    "    cnt = np.zeros(len(genres_matching_tags))\n",
    "    for ind in tqdm(grps[l]):\n",
    "        for i, g in enumerate(genres_matching_tags):\n",
    "            \n",
    "            g_ind = mp_genre_to_ind[g]\n",
    "            \n",
    "            if movie_genres[ind][g_ind] == 0: continue\n",
    "            \n",
    "            if ind not in movie_ind_with_scores:\n",
    "                print(ind)\n",
    "                assert(False)\n",
    "        \n",
    "            if ind not in movie_rating_sum: continue\n",
    "            if ind not in movie_rating_cnt: continue\n",
    "            cnt[i] += 1\n",
    "            assert(movie_rating_sum[ind] / movie_rating_cnt[ind]<=5)\n",
    "            if g == 'western':\n",
    "                print(movie_ids[ind], movie_rating_sum[ind] / movie_rating_cnt[ind], cnt[i])\n",
    "            grp_avg_ratings_conditioned_on_genre[l][i].append(movie_rating_sum[ind] / movie_rating_cnt[ind])\n",
    "            \n",
    "            \n",
    "np.set_printoptions(precision=2)\n",
    "for i in range(len(genres_matching_tags)):\n",
    "    print(f'Genre: {genres_matching_tags[i]}{\" \"*(10-len(genres_matching_tags[i]))}\\t'+\n",
    "          f'Ratio: {np.mean(grp_avg_ratings_conditioned_on_genre[1][i])/np.mean(grp_avg_ratings_conditioned_on_genre[0][i]):.2f}')\n",
    "    print(f'\\t{\" \"*(10)}\\t'+\n",
    "          f'Averages: {np.mean(grp_avg_ratings_conditioned_on_genre[0][i]):.2f} ({np.std(grp_avg_ratings_conditioned_on_genre[0][i]):.2f}),\\t'+\n",
    "          f'{np.mean(grp_avg_ratings_conditioned_on_genre[1][i]):.2f} ({np.std(grp_avg_ratings_conditioned_on_genre[1][i]):.2f})')"
   ]
  },
  {
   "cell_type": "code",
   "execution_count": 41,
   "id": "b43fdbd8",
   "metadata": {},
   "outputs": [],
   "source": [
    "## THE NEXT CELL WAS MISSING. WE ADDED IT ON JULY 28"
   ]
  },
  {
   "cell_type": "code",
   "execution_count": 42,
   "id": "994cf005",
   "metadata": {},
   "outputs": [
    {
     "name": "stdout",
     "output_type": "stream",
     "text": [
      "Ratio: 0.9936361460626514\n",
      "Averages: (3.2620164077987055, 3.24125741183824)\n"
     ]
    }
   ],
   "source": [
    "grp_avg_ratings = [0, 0]\n",
    "\n",
    "for l in [0, 1]:\n",
    "    for ind in grps[l]:\n",
    "        # m_ind = movie_id_to_index[m]\n",
    "        if ind not in movie_ind_with_scores:\n",
    "            print(ind)\n",
    "            assert(False)\n",
    "        \n",
    "        if ind not in movie_rating_sum: continue\n",
    "        if ind not in movie_rating_cnt: continue\n",
    "        grp_avg_ratings[l] += movie_rating_sum[ind] / movie_rating_cnt[ind]\n",
    "    grp_avg_ratings[l] /= len(grps[l])\n",
    "    \n",
    "print(f'Ratio: {grp_avg_ratings[1]/grp_avg_ratings[0]}')\n",
    "print(f'Averages: {grp_avg_ratings[0], grp_avg_ratings[1]}')"
   ]
  },
  {
   "cell_type": "code",
   "execution_count": null,
   "id": "3f5990ae",
   "metadata": {},
   "outputs": [],
   "source": []
  },
  {
   "cell_type": "code",
   "execution_count": null,
   "id": "2b3309cc",
   "metadata": {},
   "outputs": [],
   "source": []
  },
  {
   "cell_type": "code",
   "execution_count": null,
   "id": "f371bc1d",
   "metadata": {},
   "outputs": [],
   "source": []
  },
  {
   "cell_type": "code",
   "execution_count": null,
   "id": "bc8a40b2",
   "metadata": {},
   "outputs": [],
   "source": []
  },
  {
   "cell_type": "code",
   "execution_count": null,
   "id": "641fcd8f",
   "metadata": {},
   "outputs": [],
   "source": []
  },
  {
   "cell_type": "code",
   "execution_count": 43,
   "id": "d4de89b1",
   "metadata": {},
   "outputs": [
    {
     "name": "stderr",
     "output_type": "stream",
     "text": [
      "100%|██████████| 138493/138493 [00:04<00:00, 34592.52it/s]\n"
     ]
    },
    {
     "name": "stdout",
     "output_type": "stream",
     "text": [
      "199820\n"
     ]
    },
    {
     "data": {
      "image/png": "[encoded data removed]",
      "text/plain": [
       "<Figure size 720x504 with 1 Axes>"
      ]
     },
     "metadata": {
      "needs_background": "light"
     },
     "output_type": "display_data"
    }
   ],
   "source": [
    "#############################\n",
    "#### Compute number of ratings submitted by each user \n",
    "#############################\n",
    "num_ratings_per_user = []\n",
    "cnt = 0\n",
    "\n",
    "\n",
    "for u in tqdm(user_ratings.keys()):\n",
    "    num_ratings_per_user.append(0)\n",
    "    \n",
    "    for r in user_ratings[u]:\n",
    "        if r['movie_index'] in movie_ind_with_scores:\n",
    "            num_ratings_per_user[-1] += 1 \n",
    "        else:\n",
    "            cnt += 1\n",
    "            \n",
    "print(cnt)\n",
    "            \n",
    "num_ratings_per_user = np.array(num_ratings_per_user)\n",
    "_ = plt.hist(np.clip(num_ratings_per_user, 0, 200), density=True, bins=30)\n"
   ]
  },
  {
   "cell_type": "code",
   "execution_count": 44,
   "id": "9628ff19",
   "metadata": {},
   "outputs": [
    {
     "data": {
      "image/png": "[encoded data removed]",
      "text/plain": [
       "<Figure size 720x504 with 1 Axes>"
      ]
     },
     "metadata": {
      "needs_background": "light"
     },
     "output_type": "display_data"
    }
   ],
   "source": [
    "num_ratings_per_user = np.array(num_ratings_per_user)\n",
    "_ = plt.hist(np.clip(num_ratings_per_user, 0, 500), density=True, bins=30)"
   ]
  },
  {
   "cell_type": "code",
   "execution_count": 45,
   "id": "502da206",
   "metadata": {},
   "outputs": [
    {
     "data": {
      "image/png": "[encoded data removed]",
      "text/plain": [
       "<Figure size 720x504 with 1 Axes>"
      ]
     },
     "metadata": {
      "needs_background": "light"
     },
     "output_type": "display_data"
    }
   ],
   "source": [
    "_ = plt.hist(np.clip(num_ratings_per_user, 0, 500), density=True, bins=100, cumulative=True)"
   ]
  },
  {
   "cell_type": "code",
   "execution_count": null,
   "id": "09655628",
   "metadata": {},
   "outputs": [],
   "source": []
  },
  {
   "cell_type": "code",
   "execution_count": null,
   "id": "d8a37a5d",
   "metadata": {},
   "outputs": [],
   "source": []
  },
  {
   "cell_type": "code",
   "execution_count": null,
   "id": "e2429038",
   "metadata": {},
   "outputs": [],
   "source": []
  },
  {
   "cell_type": "code",
   "execution_count": 46,
   "id": "6a428569",
   "metadata": {},
   "outputs": [
    {
     "name": "stderr",
     "output_type": "stream",
     "text": [
      "100%|██████████| 138493/138493 [00:07<00:00, 18289.97it/s]"
     ]
    },
    {
     "name": "stdout",
     "output_type": "stream",
     "text": [
      "199820\n"
     ]
    },
    {
     "name": "stderr",
     "output_type": "stream",
     "text": [
      "\n"
     ]
    }
   ],
   "source": [
    "user_ratings_for_movies_with_scores = {}\n",
    "\n",
    "cnt=0\n",
    "for u in tqdm(user_ratings):\n",
    "    if u not in user_ratings_for_movies_with_scores:\n",
    "        user_ratings_for_movies_with_scores[u] = []\n",
    "        \n",
    "    for r in user_ratings[u]:\n",
    "        if r['movie_index'] in movie_ind_with_scores:\n",
    "            user_ratings_for_movies_with_scores[u].append(r)\n",
    "        else: cnt+=1\n",
    "            \n",
    "print(cnt)"
   ]
  },
  {
   "cell_type": "code",
   "execution_count": 47,
   "id": "35871ad9",
   "metadata": {},
   "outputs": [
    {
     "name": "stderr",
     "output_type": "stream",
     "text": [
      "100%|██████████| 138493/138493 [00:00<00:00, 1645114.61it/s]\n"
     ]
    }
   ],
   "source": [
    "threshold_on_user_rating_cnt = 200\n",
    "\n",
    "selected_users = []\n",
    "\n",
    "for u in tqdm(user_ratings_for_movies_with_scores.keys()):\n",
    "    if len(user_ratings_for_movies_with_scores[u]) >= threshold_on_user_rating_cnt:\n",
    "        selected_users.append(u)\n",
    "\n",
    "selected_users_set = set(selected_users)"
   ]
  },
  {
   "cell_type": "code",
   "execution_count": 48,
   "id": "992ce7c4",
   "metadata": {},
   "outputs": [
    {
     "name": "stdout",
     "output_type": "stream",
     "text": [
      "19.2594571566794% of the users submitted at least 200 ratings\n"
     ]
    }
   ],
   "source": [
    "print(f'{len(selected_users) / 138493 * 100}% of the users submitted at least 200 ratings')"
   ]
  },
  {
   "cell_type": "code",
   "execution_count": 49,
   "id": "0caef8dd",
   "metadata": {},
   "outputs": [
    {
     "name": "stderr",
     "output_type": "stream",
     "text": [
      "20000264it [00:37, 527182.21it/s]\n"
     ]
    }
   ],
   "source": [
    "#################################################################\n",
    "###### Update cnt/sum of movie ratings to only consider ratings from users in `selected_users_set`\n",
    "#################################################################\n",
    "\n",
    "movie_rating_cnt_selected = {}\n",
    "movie_rating_sum_selected = {}\n",
    "\n",
    "with open('ml-20m/ratings.csv') as csv_file:\n",
    "    csv_reader = csv.reader(csv_file, delimiter=',')\n",
    "    i = 0\n",
    "    \n",
    "    for row in tqdm(csv_reader):\n",
    "        if i == 0: \n",
    "            i += 1\n",
    "            continue \n",
    "            \n",
    "        user_id = int(row[0])\n",
    "        mov_ind = movie_id_to_index[int(row[1])]\n",
    "        rating = float(row[2])\n",
    "        # timestamp = int(row[3])\n",
    "        \n",
    "        if mov_ind not in movie_ind_with_scores:\n",
    "            continue \n",
    "        \n",
    "        if user_id not in selected_users_set: continue \n",
    "        \n",
    "        if mov_ind not in movie_rating_cnt_selected:\n",
    "            movie_rating_cnt_selected[mov_ind] = 0\n",
    "        if mov_ind not in movie_rating_sum_selected:\n",
    "            movie_rating_sum_selected[mov_ind] = 0\n",
    "\n",
    "        movie_rating_cnt_selected[mov_ind] += 1\n",
    "        movie_rating_sum_selected[mov_ind] += rating\n",
    "        \n",
    "        i += 1"
   ]
  },
  {
   "cell_type": "code",
   "execution_count": 50,
   "id": "579e1d2f",
   "metadata": {},
   "outputs": [],
   "source": [
    "## THE NEXT CELL WAS MISSING!!! I ADDED IT ON JULY 28!"
   ]
  },
  {
   "cell_type": "code",
   "execution_count": 51,
   "id": "336fe338",
   "metadata": {},
   "outputs": [
    {
     "name": "stdout",
     "output_type": "stream",
     "text": [
      "Ratio: 0.9909879273893368\n",
      "Averages: (3.216265778126368, 3.187280557398702)\n"
     ]
    }
   ],
   "source": [
    "grp_avg_ratings_selected = [0, 0]\n",
    "\n",
    "for l in [0, 1]:\n",
    "    for ind in grps[l]:\n",
    "        \n",
    "        if ind not in movie_rating_sum_selected: continue\n",
    "        if ind not in movie_rating_cnt_selected: continue\n",
    "        grp_avg_ratings_selected[l] += movie_rating_sum_selected[ind] / movie_rating_cnt_selected[ind]\n",
    "    grp_avg_ratings_selected[l] /= len(grps[l])\n",
    "    \n",
    "print(f'Ratio: {grp_avg_ratings_selected[1]/grp_avg_ratings_selected[0]}')\n",
    "print(f'Averages: {grp_avg_ratings_selected[0], grp_avg_ratings_selected[1]}')"
   ]
  },
  {
   "cell_type": "code",
   "execution_count": 52,
   "id": "09f12fa2",
   "metadata": {},
   "outputs": [
    {
     "data": {
      "text/plain": [
       "(20, 17)"
      ]
     },
     "execution_count": 52,
     "metadata": {},
     "output_type": "execute_result"
    }
   ],
   "source": [
    "len(movie_genres[0]), len(genres_matching_tags)"
   ]
  },
  {
   "cell_type": "code",
   "execution_count": null,
   "id": "a89df3dd",
   "metadata": {},
   "outputs": [],
   "source": []
  },
  {
   "cell_type": "code",
   "execution_count": 53,
   "id": "77fb2058",
   "metadata": {},
   "outputs": [
    {
     "data": {
      "text/plain": [
       "0"
      ]
     },
     "execution_count": 53,
     "metadata": {},
     "output_type": "execute_result"
    }
   ],
   "source": [
    "import gc\n",
    "gc.collect(2)"
   ]
  },
  {
   "cell_type": "code",
   "execution_count": 54,
   "id": "526dc2c5",
   "metadata": {},
   "outputs": [
    {
     "data": {
      "text/plain": [
       "['(no genres listed)',\n",
       " 'action',\n",
       " 'adventure',\n",
       " 'animation',\n",
       " 'children',\n",
       " 'comedy',\n",
       " 'crime',\n",
       " 'documentary',\n",
       " 'drama',\n",
       " 'fantasy',\n",
       " 'film-noir',\n",
       " 'horror',\n",
       " 'imax',\n",
       " 'musical',\n",
       " 'mystery',\n",
       " 'romance',\n",
       " 'sci-fi',\n",
       " 'thriller',\n",
       " 'war',\n",
       " 'western']"
      ]
     },
     "execution_count": 54,
     "metadata": {},
     "output_type": "execute_result"
    }
   ],
   "source": [
    "genres"
   ]
  },
  {
   "cell_type": "code",
   "execution_count": null,
   "id": "de2dbc70",
   "metadata": {},
   "outputs": [],
   "source": []
  },
  {
   "cell_type": "code",
   "execution_count": 55,
   "id": "5950586d",
   "metadata": {},
   "outputs": [],
   "source": [
    "# NOT RUNNING THIS CELL. ADDED ON JULY 28.\n",
    "# corr = np.zeros((len(movie_ind_with_scores), len(movie_ind_with_scores)))"
   ]
  },
  {
   "cell_type": "code",
   "execution_count": 56,
   "id": "f46c73a7",
   "metadata": {
    "scrolled": true
   },
   "outputs": [
    {
     "name": "stdout",
     "output_type": "stream",
     "text": [
      "0 0\n",
      "1 1\n",
      "2 2\n",
      "3 3\n",
      "4 4\n",
      "5 5\n",
      "6 6\n",
      "7 7\n",
      "8 8\n",
      "9 9\n",
      "10 10\n",
      "11 11\n",
      "12 12\n",
      "13 13\n",
      "14 14\n",
      "15 15\n",
      "16 16\n",
      "17 17\n",
      "18 18\n",
      "19 19\n",
      "20 20\n",
      "21 21\n",
      "22 22\n",
      "23 23\n",
      "24 24\n",
      "25 25\n",
      "26 26\n",
      "27 27\n",
      "28 28\n",
      "29 29\n",
      "30 30\n",
      "31 31\n",
      "32 32\n",
      "33 33\n",
      "34 34\n",
      "35 35\n",
      "36 36\n",
      "37 37\n",
      "38 38\n",
      "39 39\n",
      "40 40\n",
      "41 41\n",
      "42 42\n",
      "43 43\n",
      "44 44\n",
      "45 45\n",
      "46 46\n",
      "47 47\n",
      "48 48\n",
      "49 49\n",
      "50 51\n",
      "51 52\n",
      "52 53\n",
      "53 54\n",
      "54 55\n",
      "55 56\n",
      "56 57\n",
      "57 58\n",
      "58 59\n",
      "59 60\n",
      "60 61\n",
      "61 62\n",
      "62 63\n",
      "63 64\n",
      "64 65\n",
      "65 66\n",
      "66 67\n",
      "67 68\n",
      "68 69\n",
      "69 70\n",
      "70 71\n",
      "71 72\n",
      "72 73\n",
      "73 74\n",
      "74 75\n",
      "75 76\n",
      "76 77\n",
      "77 78\n",
      "78 79\n",
      "79 80\n",
      "80 81\n",
      "81 82\n",
      "82 83\n",
      "83 84\n",
      "84 85\n",
      "85 86\n",
      "86 87\n",
      "87 88\n",
      "88 89\n",
      "89 90\n",
      "90 91\n",
      "91 92\n",
      "92 93\n",
      "93 94\n",
      "94 95\n",
      "95 96\n",
      "96 97\n",
      "97 98\n",
      "98 99\n",
      "99 100\n",
      "100 101\n"
     ]
    }
   ],
   "source": [
    "movie_ind_to_clean_ind = {}\n",
    "mp_clean_ind_to_ind = {}\n",
    "for i, ind in enumerate(movie_ind_with_scores):\n",
    "    if i <= 100: print(i, ind)\n",
    "    movie_ind_to_clean_ind[ind] = i\n",
    "    mp_clean_ind_to_ind[i] = ind"
   ]
  },
  {
   "cell_type": "code",
   "execution_count": 57,
   "id": "86e37de6",
   "metadata": {},
   "outputs": [
    {
     "name": "stdout",
     "output_type": "stream",
     "text": [
      "66097\n"
     ]
    }
   ],
   "source": [
    "print(movie_ids[13413])"
   ]
  },
  {
   "cell_type": "code",
   "execution_count": 58,
   "id": "ae5c4b57",
   "metadata": {},
   "outputs": [
    {
     "data": {
      "text/plain": [
       "True"
      ]
     },
     "execution_count": 58,
     "metadata": {},
     "output_type": "execute_result"
    }
   ],
   "source": [
    "13413 in movie_ind_with_scores"
   ]
  },
  {
   "cell_type": "code",
   "execution_count": null,
   "id": "39c5bb52",
   "metadata": {},
   "outputs": [],
   "source": []
  },
  {
   "cell_type": "code",
   "execution_count": 59,
   "id": "585b2b3a",
   "metadata": {},
   "outputs": [
    {
     "name": "stdout",
     "output_type": "stream",
     "text": [
      "1 action\n",
      "2 adventure\n",
      "3 animation\n",
      "4 children\n",
      "5 comedy\n",
      "6 crime\n",
      "7 documentary\n",
      "8 drama\n",
      "9 fantasy\n",
      "11 horror\n",
      "13 musical\n",
      "14 mystery\n",
      "15 romance\n",
      "16 sci-fi\n",
      "17 thriller\n",
      "18 war\n",
      "19 western\n"
     ]
    }
   ],
   "source": [
    "for j, g in enumerate(genres):\n",
    "    if g not in genres_matching_tags: \n",
    "        continue\n",
    "    print(j,g)"
   ]
  },
  {
   "cell_type": "code",
   "execution_count": 60,
   "id": "edb75115",
   "metadata": {},
   "outputs": [
    {
     "data": {
      "text/plain": [
       "0.0"
      ]
     },
     "execution_count": 60,
     "metadata": {},
     "output_type": "execute_result"
    }
   ],
   "source": [
    "movie_genres[1][-2]"
   ]
  },
  {
   "cell_type": "code",
   "execution_count": 61,
   "id": "d43c5488",
   "metadata": {},
   "outputs": [
    {
     "name": "stdout",
     "output_type": "stream",
     "text": [
      "action 1\n",
      "adventure 2\n",
      "crime 6\n",
      "romance 15\n",
      "war 18\n",
      "western 19\n"
     ]
    }
   ],
   "source": [
    "for j, g in enumerate(genres):\n",
    "    if g not in genres_matching_tags: \n",
    "        continue\n",
    "    if g in ['action', 'adventure', 'crime', 'war', 'western']:\n",
    "        print(g, j)\n",
    "    if g in ['romance']:\n",
    "        print(g, j)\n"
   ]
  },
  {
   "cell_type": "code",
   "execution_count": 62,
   "id": "8a89990f",
   "metadata": {},
   "outputs": [
    {
     "name": "stdout",
     "output_type": "stream",
     "text": [
      "                  user_ratings:  5.0 MiB\n",
      "user_ratings_for_movies_with_scores:  5.0 MiB\n",
      "                  movie_genres:  4.2 MiB\n",
      "            selected_users_set:  2.0 MiB\n",
      "             movie_id_to_index:  1.3 MiB\n",
      "                   movie_names:  1.3 MiB\n",
      "              movie_rating_cnt:  1.3 MiB\n",
      "              movie_rating_sum:  1.3 MiB\n",
      "                    movie_cast:  1.3 MiB\n",
      "                movie_cast_ind:  1.3 MiB\n"
     ]
    }
   ],
   "source": [
    "import sys\n",
    "def sizeof_fmt(num, suffix='B'):\n",
    "    ''' by Fred Cirera,  https://stackoverflow.com/a/1094933/1870254, modified'''\n",
    "    for unit in ['','Ki','Mi','Gi','Ti','Pi','Ei','Zi']:\n",
    "        if abs(num) < 1024.0:\n",
    "            return \"%3.1f %s%s\" % (num, unit, suffix)\n",
    "        num /= 1024.0\n",
    "    return \"%.1f %s%s\" % (num, 'Yi', suffix)\n",
    "\n",
    "for name, size in sorted(((name, sys.getsizeof(value)) for name, value in locals().items()),\n",
    "                         key= lambda x: -x[1])[:10]:\n",
    "    print(\"{:>30}: {:>8}\".format(name, sizeof_fmt(size)))"
   ]
  },
  {
   "cell_type": "code",
   "execution_count": null,
   "id": "860c02d2",
   "metadata": {},
   "outputs": [],
   "source": []
  },
  {
   "cell_type": "code",
   "execution_count": null,
   "id": "8e3c0706",
   "metadata": {},
   "outputs": [],
   "source": []
  },
  {
   "cell_type": "code",
   "execution_count": null,
   "id": "11adbcc3",
   "metadata": {},
   "outputs": [],
   "source": []
  },
  {
   "cell_type": "markdown",
   "id": "2f18e1d8",
   "metadata": {},
   "source": [
    "## Simulation"
   ]
  },
  {
   "cell_type": "code",
   "execution_count": 63,
   "id": "9ceb050c",
   "metadata": {},
   "outputs": [],
   "source": [
    "grps_set = [set(grps[0]), set(grps[1])]"
   ]
  },
  {
   "cell_type": "code",
   "execution_count": 64,
   "id": "defcca46",
   "metadata": {},
   "outputs": [
    {
     "name": "stdout",
     "output_type": "stream",
     "text": [
      "19800443 20000263\n"
     ]
    }
   ],
   "source": [
    "cnt1=0\n",
    "cnt2=0\n",
    "for u in user_ratings_for_movies_with_scores:\n",
    "    cnt1+=len(user_ratings_for_movies_with_scores[u])\n",
    "for u in user_ratings:\n",
    "    cnt2+=len(user_ratings[u])\n",
    "\n",
    "print(cnt1, cnt2)"
   ]
  },
  {
   "cell_type": "code",
   "execution_count": 65,
   "id": "35e8e020",
   "metadata": {},
   "outputs": [
    {
     "name": "stdout",
     "output_type": "stream",
     "text": [
      "1 action\n",
      "2 adventure\n",
      "3 animation\n",
      "4 children\n",
      "5 comedy\n",
      "6 crime\n",
      "7 documentary\n",
      "8 drama\n",
      "9 fantasy\n",
      "11 horror\n",
      "13 musical\n",
      "14 mystery\n",
      "15 romance\n",
      "16 sci-fi\n",
      "17 thriller\n",
      "18 war\n",
      "19 western\n"
     ]
    }
   ],
   "source": [
    "for j, g in enumerate(genres):\n",
    "    if g not in genres_matching_tags: \n",
    "        continue\n",
    "    print(j,g)"
   ]
  },
  {
   "cell_type": "code",
   "execution_count": 66,
   "id": "c90961bc",
   "metadata": {},
   "outputs": [
    {
     "data": {
      "text/plain": [
       "20"
      ]
     },
     "execution_count": 66,
     "metadata": {},
     "output_type": "execute_result"
    }
   ],
   "source": [
    "weight_F = get_movie_dist_over_genre(1)\n",
    "len(weight_F)\n"
   ]
  },
  {
   "cell_type": "code",
   "execution_count": 67,
   "id": "4114cabe",
   "metadata": {},
   "outputs": [],
   "source": [
    "a=1"
   ]
  },
  {
   "cell_type": "code",
   "execution_count": null,
   "id": "e5b744e5",
   "metadata": {},
   "outputs": [],
   "source": []
  },
  {
   "cell_type": "code",
   "execution_count": null,
   "id": "bb53e332",
   "metadata": {},
   "outputs": [],
   "source": []
  },
  {
   "cell_type": "code",
   "execution_count": null,
   "id": "fd5029f4",
   "metadata": {},
   "outputs": [],
   "source": []
  },
  {
   "cell_type": "code",
   "execution_count": 77,
   "id": "f16555b8",
   "metadata": {},
   "outputs": [],
   "source": [
    "# grps_set = [set(grps[0]), set(grps[1])]\n",
    "\n",
    "\n",
    "#####################################\n",
    "### parameter of the submodular function\n",
    "### They specify the function with g1(x)=g1(x)=...=gm(x)=np.sqrt()\n",
    "#####################################\n",
    "func = lambda x: np.sqrt(x)\n",
    "func2 = lambda x: np.sqrt(x)\n",
    "weight_F = np.zeros(20) # parameter of the submodular function"
   ]
  },
  {
   "cell_type": "code",
   "execution_count": 84,
   "id": "09968f82",
   "metadata": {},
   "outputs": [],
   "source": [
    "\n",
    "baseline_uncons = baseline_greedy_uncons\n",
    "alg_iid = algo_4_greedy_cons\n",
    "alg_iid_var_1 = algorithm_1_variant_1\n",
    "alg_iid_var_2 = algorithm_1_variant_2\n",
    "algo_disj = algo_3_disjoint_attr\n",
    "\n",
    "\n",
    "# sol_baseline_uncons = baseline_uncons(obs_util, grps_int, k, m)\n",
    "# sol_alg_disj = alg_disj(obs_util, grps_int, k, m) \n",
    "\n",
    "# # Record results\n",
    "# util_baseline_uncons = get_score_rating_overall_users(sol_baseline_uncons, m_inds, m_ind_to_i) / k\n",
    "# util_alg_disj = get_score_rating_overall_users(sol_alg_disj, m_inds, m_ind_to_i) / k\n",
    "# util_opt = np.sum(sorted(score_list)[::-1][:k]) / k\n",
    "\n",
    "# list_baseline_uncons.append(util_baseline_uncons) \n",
    "# list_alg_disj.append(util_alg_disj) \n",
    "# list_opt.append(util_opt)\n",
    "\n",
    "\n",
    "def run_simulation(genre_sets = [], ITERS=2):\n",
    "    fg=0\n",
    "    \n",
    "    algorithms = [baseline_uncons, alg_iid, alg_iid_var_1, alg_iid_var_2, algo_disj]\n",
    "    colors = ['red', '#F2B93F', '#4DF06D', '#2FA3EB', '#604EE6']\n",
    "    names = ['Uncons', 'Algorithm 1 (IID)', 'Algorithm 1 Variant 1 (IID)', 'Algorithm 1 Variant 2 (IID)', 'Algorithm 2 (Disjoint)']\n",
    "    styles = ['-', '-', '-', '-', '-.']\n",
    "\n",
    "    for gen in tqdm(genre_sets):\n",
    "        weight_F = np.zeros(20)\n",
    "        for g in gen: \n",
    "            weight_F[g] = 1\n",
    "            \n",
    "        LISTS_OUTER = [[] for i in range(len(algorithms))]\n",
    "        ERR_LISTS_OUTER = [[] for i in range(len(algorithms))] \n",
    "\n",
    "        x = []\n",
    "\n",
    "        print(f'Genre: {[genres[g] for g in gen]}')\n",
    "\n",
    "        for k in tqdm([50, 100, 150, 200]): \n",
    "            lists = [[] for i in range(len(algorithms))]\n",
    "            \n",
    "            # list_opt = []\n",
    "\n",
    "            user_draws = rng.choice(len(selected_users), 10*ITERS)\n",
    "\n",
    "            ijk = -1\n",
    "            while len(lists[-1]) < ITERS and ijk < 10*ITERS:\n",
    "                ijk += 1\n",
    "                u_id = selected_users[user_draws[ijk]]\n",
    "                m_inds = get_rated_movie_indices(u_id)\n",
    "\n",
    "                m_ind_to_i = {}\n",
    "                for i, ind in enumerate(m_inds): m_ind_to_i[ind] = i\n",
    "\n",
    "                n = len(m_inds)\n",
    "                m = len(genres_matching_tags)\n",
    "\n",
    "                if n < k: continue \n",
    "\n",
    "                obs_util = np.zeros((n, m))\n",
    "\n",
    "                # Get relevance scores (observed utilities)\n",
    "                for i in range(n):\n",
    "                    for j in range(m):\n",
    "                        m_ind = m_inds[i]\n",
    "                        g = rev_tags[genres_matching_tags[j]] # name of j-th genre \n",
    "\n",
    "                        obs_util[i][j] = movie_tag_rel_scores[m_ind][g]\n",
    "        \n",
    "                # Create protected groups\n",
    "                grps_int = [[], []]\n",
    "                for i in range(n):\n",
    "                    m_ind = m_inds[i]\n",
    "\n",
    "                    if m_ind in grps_set[0]:\n",
    "                        grps_int[0].append(i)\n",
    "                    elif m_ind in grps_set[1]:\n",
    "                        grps_int[1].append(i)\n",
    "                    else:\n",
    "                        assert(False)\n",
    "    \n",
    "\n",
    "                # Skip this iteration if the current user has not liked at least (16.66)% men-lead and 16.66% non-male led movies\n",
    "                if len(grps_int[0]) == 0 or len(grps_int[1]) == 0:\n",
    "                    continue \n",
    "                if len(grps_int[1]) <= 0.2 * len(grps_int[0]) or len(grps_int[0]) <= 0.2 * len(grps_int[1]):\n",
    "                    continue \n",
    "                    \n",
    "                # compute OPT utility\n",
    "                score_list = []\n",
    "                for i in range(n):\n",
    "                    m_ind = m_inds[i]\n",
    "                    r = movie_rating_sum[m_ind]/movie_rating_cnt[m_ind]\n",
    "                    score_list.append(r)\n",
    "\n",
    "                \n",
    "                sols = []\n",
    "                utils = []\n",
    "\n",
    "                # run algorithms and baselines\n",
    "                #  sol_opt = baseline_uncons(lat_util, grps, k, m)\n",
    "                util_opt = np.sum(sorted(score_list)[::-1][:k]) / k\n",
    "                for algo in algorithms: sols.append(algo(obs_util, grps_int, k, m))\n",
    "                for s in sols:\n",
    "                    utils.append(get_score_rating_overall_users(s, m_inds, m_ind_to_i) / k)\n",
    "                    print(len(s), end=\", \")\n",
    "                print()\n",
    "\n",
    "                for i, u in enumerate(utils): lists[i].append(u / util_opt)\n",
    "                \n",
    "                #list_opt.append(util_opt)\n",
    "\n",
    "            x.append(k)\n",
    "            \n",
    "            for i, u in enumerate(lists): LISTS_OUTER[i].append(np.mean(lists[i]))\n",
    "            for i, u in enumerate(lists): ERR_LISTS_OUTER[i].append(np.std(lists[i]) / np.sqrt(ITERS))\n",
    " \n",
    "            #LIST_opt_OUTER.append(np.mean(list_opt))\n",
    "            #ERR_LIST_opt_OUTER.append(np.std(list_opt) / np.sqrt(ITERS))\n",
    "\n",
    "        x = np.array(x)\n",
    "        ys = [[] for i in range(len(algorithms))]\n",
    "        yerrs = [[] for i in range(len(algorithms))]\n",
    "        \n",
    "        for i, u in enumerate(lists): ys[i] = np.array(LISTS_OUTER[i])\n",
    "        for i, u in enumerate(lists): yerrs[i] = np.array(ERR_LISTS_OUTER[i])\n",
    "        \n",
    "        # y_opt = np.array(LIST_opt_OUTER)\n",
    "        # y_opt_err = np.array(ERR_LIST_opt_OUTER)\n",
    "\n",
    "        fig, ax = plt.subplots()\n",
    "        for i, u in enumerate(lists):\n",
    "            plt.errorbar(x + i / len(lists), ys[i], yerr=yerrs[i], linestyle=styles[i], color=colors[i], label=names[i],  linewidth=6, alpha=1.0)    \n",
    "         \n",
    "        plt.title(f'ITER={ITERS}, genre={[genres[g] for g in gen]}', fontsize=18)\n",
    "        plt.ylim(0.8, 1)\n",
    "        ax.set_ylabel('$\\\\frac{1}{k}\\\\cdot$ (Average User Rating of Recommendation)',fontsize=26)\n",
    "        ax.set_xlabel('$k$', fontsize=32)\n",
    "        legend = plt.legend(loc='best', shadow=False, fontsize=26)\n",
    "        plt.tick_params(axis='both', which='major', labelsize=26)\n",
    "        \n",
    "        print()\n",
    "        for i, u in enumerate(lists): print(f'{names[i]}: {ys[i]}')\n",
    "        for i, u in enumerate(lists): print(f'{names[i]}_err: {yerrs[i]}')\n",
    "        # print(f'Ratio of opt for uncons= {y_uncons/y_opt}')\n",
    "        # print(f'Ratio of opt for Disj= {y_disj/y_opt}')\n",
    "\n",
    "        # plt.show()\n",
    "        pdf_savefig()"
   ]
  },
  {
   "cell_type": "code",
   "execution_count": 85,
   "id": "7562f96f",
   "metadata": {},
   "outputs": [
    {
     "name": "stderr",
     "output_type": "stream",
     "text": [
      "\r",
      "  0%|          | 0/2 [00:00<?, ?it/s]"
     ]
    },
    {
     "name": "stdout",
     "output_type": "stream",
     "text": [
      "Genre: ['action', 'adventure', 'war', 'western']\n"
     ]
    },
    {
     "name": "stderr",
     "output_type": "stream",
     "text": [
      "\n",
      "  0%|          | 0/4 [00:00<?, ?it/s]\u001b[A"
     ]
    },
    {
     "name": "stdout",
     "output_type": "stream",
     "text": [
      "50, 50, 50, 50, 50, \n"
     ]
    },
    {
     "name": "stderr",
     "output_type": "stream",
     "text": [
      "\n",
      " 25%|██▌       | 1/4 [00:10<00:30, 10.19s/it]\u001b[A"
     ]
    },
    {
     "name": "stdout",
     "output_type": "stream",
     "text": [
      "50, 50, 50, 50, 50, \n",
      "100, 100, 100, 100, 100, \n"
     ]
    },
    {
     "name": "stderr",
     "output_type": "stream",
     "text": [
      "\n",
      " 50%|█████     | 2/4 [00:25<00:26, 13.30s/it]\u001b[A"
     ]
    },
    {
     "name": "stdout",
     "output_type": "stream",
     "text": [
      "100, 100, 100, 100, 100, \n",
      "150, 150, 150, 150, 150, \n"
     ]
    },
    {
     "name": "stderr",
     "output_type": "stream",
     "text": [
      "\n",
      " 75%|███████▌  | 3/4 [00:48<00:17, 17.82s/it]\u001b[A"
     ]
    },
    {
     "name": "stdout",
     "output_type": "stream",
     "text": [
      "150, 150, 150, 150, 150, \n",
      "200, 200, 200, 200, 200, \n"
     ]
    },
    {
     "name": "stderr",
     "output_type": "stream",
     "text": [
      "\n",
      "100%|██████████| 4/4 [01:28<00:00, 22.16s/it]\u001b[A\n",
      " 50%|█████     | 1/2 [01:28<01:28, 88.84s/it]"
     ]
    },
    {
     "name": "stdout",
     "output_type": "stream",
     "text": [
      "200, 200, 200, 200, 200, \n",
      "\n",
      "Uncons: [0.85 0.87 0.84 0.92]\n",
      "Algorithm 1 (IID): [0.85 0.87 0.85 0.92]\n",
      "Algorithm 1 Variant 1 (IID): [0.85 0.87 0.84 0.92]\n",
      "Algorithm 1 Variant 2 (IID): [0.85 0.87 0.85 0.92]\n",
      "Algorithm 2 (Disjoint): [0.87 0.9  0.89 0.94]\n",
      "Uncons_err: [0.   0.02 0.02 0.04]\n",
      "Algorithm 1 (IID)_err: [0.   0.03 0.02 0.04]\n",
      "Algorithm 1 Variant 1 (IID)_err: [0.   0.03 0.02 0.04]\n",
      "Algorithm 1 Variant 2 (IID)_err: [0.   0.03 0.02 0.04]\n",
      "Algorithm 2 (Disjoint)_err: [0.   0.02 0.   0.03]\n",
      "./figs/H09M26S29_10-01-22lehyv.pdf\n",
      "Genre: ['action', 'adventure', 'crime', 'western']\n"
     ]
    },
    {
     "name": "stderr",
     "output_type": "stream",
     "text": [
      "\n",
      "  0%|          | 0/4 [00:00<?, ?it/s]\u001b[A"
     ]
    },
    {
     "name": "stdout",
     "output_type": "stream",
     "text": [
      "50, 50, 50, 50, 50, \n"
     ]
    },
    {
     "name": "stderr",
     "output_type": "stream",
     "text": [
      "\n",
      " 25%|██▌       | 1/4 [00:14<00:43, 14.54s/it]\u001b[A"
     ]
    },
    {
     "name": "stdout",
     "output_type": "stream",
     "text": [
      "50, 50, 50, 50, 50, \n",
      "100, 100, 100, 100, 100, \n"
     ]
    },
    {
     "name": "stderr",
     "output_type": "stream",
     "text": [
      "\n",
      " 50%|█████     | 2/4 [00:42<00:44, 22.44s/it]\u001b[A"
     ]
    },
    {
     "name": "stdout",
     "output_type": "stream",
     "text": [
      "100, 100, 100, 100, 100, \n",
      "150, 150, 150, 150, 150, \n"
     ]
    },
    {
     "name": "stderr",
     "output_type": "stream",
     "text": [
      "\n",
      " 75%|███████▌  | 3/4 [00:51<00:16, 16.41s/it]\u001b[A"
     ]
    },
    {
     "name": "stdout",
     "output_type": "stream",
     "text": [
      "150, 150, 150, 150, 150, \n",
      "200, 200, 200, 200, 200, \n"
     ]
    },
    {
     "name": "stderr",
     "output_type": "stream",
     "text": [
      "\n",
      "100%|██████████| 4/4 [01:09<00:00, 17.39s/it]\u001b[A\n",
      "100%|██████████| 2/2 [02:38<00:00, 79.31s/it]"
     ]
    },
    {
     "name": "stdout",
     "output_type": "stream",
     "text": [
      "200, 200, 200, 200, 200, \n",
      "\n",
      "Uncons: [0.83 0.83 0.95 0.95]\n",
      "Algorithm 1 (IID): [0.83 0.83 0.94 0.95]\n",
      "Algorithm 1 Variant 1 (IID): [0.84 0.83 0.95 0.95]\n",
      "Algorithm 1 Variant 2 (IID): [0.83 0.83 0.94 0.95]\n",
      "Algorithm 2 (Disjoint): [0.87 0.87 0.95 0.95]\n",
      "Uncons_err: [0.03 0.01 0.02 0.02]\n",
      "Algorithm 1 (IID)_err: [0.03 0.01 0.02 0.02]\n",
      "Algorithm 1 Variant 1 (IID)_err: [0.03 0.01 0.02 0.02]\n",
      "Algorithm 1 Variant 2 (IID)_err: [0.03 0.01 0.01 0.02]\n",
      "Algorithm 2 (Disjoint)_err: [0.02 0.01 0.02 0.01]\n",
      "./figs/H09M27S39_10-01-22awzfe.pdf\n"
     ]
    },
    {
     "name": "stderr",
     "output_type": "stream",
     "text": [
      "\n"
     ]
    },
    {
     "data": {
      "image/png": "[encoded data removed]",
      "text/plain": [
       "<Figure size 720x504 with 1 Axes>"
      ]
     },
     "metadata": {
      "needs_background": "light"
     },
     "output_type": "display_data"
    },
    {
     "data": {
      "image/png": "[encoded data removed]",
      "text/plain": [
       "<Figure size 720x504 with 1 Axes>"
      ]
     },
     "metadata": {
      "needs_background": "light"
     },
     "output_type": "display_data"
    }
   ],
   "source": [
    "run_simulation(genre_sets=[[1, 2, 18, 19], [1, 2, 6, 19] ], ITERS=2)"
   ]
  },
  {
   "cell_type": "code",
   "execution_count": null,
   "id": "53aab789",
   "metadata": {},
   "outputs": [],
   "source": [
    "run_simulation(genre_sets=[[1, 2, 18, 19], [1, 2, 6, 19] ], ITERS=5)"
   ]
  },
  {
   "cell_type": "code",
   "execution_count": null,
   "id": "b072e7eb",
   "metadata": {},
   "outputs": [],
   "source": [
    "run_simulation(genre_sets=[[1, 2, 6, 18, 19]], ITERS=2)"
   ]
  },
  {
   "cell_type": "code",
   "execution_count": null,
   "id": "bae60f52",
   "metadata": {},
   "outputs": [],
   "source": [
    "run_simulation(genre_sets=[[1, 2, 6, 18, 19]], ITERS=2)"
   ]
  },
  {
   "cell_type": "code",
   "execution_count": null,
   "id": "4a4bb2a0",
   "metadata": {},
   "outputs": [],
   "source": []
  },
  {
   "cell_type": "code",
   "execution_count": 81,
   "id": "87461fab",
   "metadata": {},
   "outputs": [
    {
     "name": "stderr",
     "output_type": "stream",
     "text": [
      "\r",
      "  0%|          | 0/2 [00:00<?, ?it/s]"
     ]
    },
    {
     "name": "stdout",
     "output_type": "stream",
     "text": [
      "Genre: ['action', 'adventure', 'war', 'western']\n"
     ]
    },
    {
     "name": "stderr",
     "output_type": "stream",
     "text": [
      "\n",
      "  0%|          | 0/4 [00:00<?, ?it/s]\u001b[A"
     ]
    },
    {
     "name": "stdout",
     "output_type": "stream",
     "text": [
      "0\n",
      "1\n",
      "2\n",
      "3\n"
     ]
    },
    {
     "name": "stderr",
     "output_type": "stream",
     "text": [
      "\n",
      " 25%|██▌       | 1/4 [00:10<00:31, 10.38s/it]\u001b[A"
     ]
    },
    {
     "name": "stdout",
     "output_type": "stream",
     "text": [
      "0\n",
      "1\n",
      "2\n",
      "3\n",
      "4\n",
      "5\n",
      "6\n",
      "7\n",
      "8\n"
     ]
    },
    {
     "name": "stderr",
     "output_type": "stream",
     "text": [
      "\n",
      " 50%|█████     | 2/4 [00:24<00:24, 12.42s/it]\u001b[A"
     ]
    },
    {
     "name": "stdout",
     "output_type": "stream",
     "text": [
      "0\n",
      "1\n",
      "2\n",
      "3\n",
      "4\n",
      "5\n",
      "6\n",
      "7\n"
     ]
    },
    {
     "name": "stderr",
     "output_type": "stream",
     "text": [
      "\n",
      " 75%|███████▌  | 3/4 [01:17<00:31, 31.17s/it]\u001b[A"
     ]
    },
    {
     "name": "stdout",
     "output_type": "stream",
     "text": [
      "0\n",
      "1\n",
      "2\n",
      "3\n",
      "4\n",
      "5\n",
      "6\n",
      "7\n",
      "8\n"
     ]
    },
    {
     "name": "stderr",
     "output_type": "stream",
     "text": [
      "\n",
      "100%|██████████| 4/4 [02:23<00:00, 35.84s/it]\u001b[A\n"
     ]
    },
    {
     "name": "stdout",
     "output_type": "stream",
     "text": [
      "\n",
      "Uncons: [0.87 0.89 0.84 0.88]\n",
      "Algorithm 1 (IID): [0.87 0.89 0.85 0.88]\n",
      "Algorithm 1 Variant 1 (IID): [0.87 0.89 0.84 0.88]\n",
      "Algorithm 1 Variant 2 (IID): [0.87 0.9  0.85 0.88]\n",
      "Algorithm 2 (Disjoint): [0.89 0.9  0.88 0.91]\n",
      "Uncons_err: [0.04 0.   0.02 0.02]\n",
      "Algorithm 1 (IID)_err: [0.03 0.   0.02 0.02]\n",
      "Algorithm 1 Variant 1 (IID)_err: [0.03 0.   0.01 0.02]\n",
      "Algorithm 1 Variant 2 (IID)_err: [0.03 0.   0.01 0.02]\n",
      "Algorithm 2 (Disjoint)_err: [0.03 0.01 0.   0.01]\n",
      "./figs/H09M21S32_10-01-22gprbz.pdf\n"
     ]
    },
    {
     "name": "stderr",
     "output_type": "stream",
     "text": [
      "\r",
      " 50%|█████     | 1/2 [02:24<02:24, 144.70s/it]"
     ]
    },
    {
     "name": "stdout",
     "output_type": "stream",
     "text": [
      "Genre: ['action', 'adventure', 'crime', 'western']\n"
     ]
    },
    {
     "name": "stderr",
     "output_type": "stream",
     "text": [
      "\n",
      "  0%|          | 0/4 [00:00<?, ?it/s]\u001b[A"
     ]
    },
    {
     "name": "stdout",
     "output_type": "stream",
     "text": [
      "0\n",
      "1\n",
      "2\n",
      "3\n",
      "4\n",
      "5\n",
      "6\n",
      "7\n",
      "8\n"
     ]
    },
    {
     "name": "stderr",
     "output_type": "stream",
     "text": [
      "\n",
      " 25%|██▌       | 1/4 [00:17<00:52, 17.54s/it]\u001b[A"
     ]
    },
    {
     "name": "stdout",
     "output_type": "stream",
     "text": [
      "0\n",
      "1\n"
     ]
    },
    {
     "name": "stderr",
     "output_type": "stream",
     "text": [
      "\n",
      " 50%|█████     | 2/4 [00:35<00:35, 17.68s/it]\u001b[A"
     ]
    },
    {
     "name": "stdout",
     "output_type": "stream",
     "text": [
      "0\n",
      "1\n",
      "2\n",
      "3\n",
      "4\n",
      "5\n",
      "6\n",
      "7\n",
      "8\n"
     ]
    },
    {
     "name": "stderr",
     "output_type": "stream",
     "text": [
      "\n",
      " 75%|███████▌  | 3/4 [01:05<00:23, 23.41s/it]\u001b[A"
     ]
    },
    {
     "name": "stdout",
     "output_type": "stream",
     "text": [
      "0\n",
      "1\n"
     ]
    },
    {
     "name": "stderr",
     "output_type": "stream",
     "text": [
      "\n",
      "100%|██████████| 4/4 [01:23<00:00, 20.82s/it]\u001b[A\n",
      "100%|██████████| 2/2 [03:48<00:00, 114.09s/it]\n"
     ]
    },
    {
     "name": "stdout",
     "output_type": "stream",
     "text": [
      "\n",
      "Uncons: [0.83 0.85 0.88 0.93]\n",
      "Algorithm 1 (IID): [0.82 0.85 0.88 0.94]\n",
      "Algorithm 1 Variant 1 (IID): [0.82 0.85 0.87 0.94]\n",
      "Algorithm 1 Variant 2 (IID): [0.82 0.85 0.87 0.93]\n",
      "Algorithm 2 (Disjoint): [0.86 0.89 0.91 0.96]\n",
      "Uncons_err: [0.03 0.   0.05 0.02]\n",
      "Algorithm 1 (IID)_err: [0.03 0.   0.05 0.02]\n",
      "Algorithm 1 Variant 1 (IID)_err: [0.03 0.   0.05 0.02]\n",
      "Algorithm 1 Variant 2 (IID)_err: [0.03 0.   0.05 0.02]\n",
      "Algorithm 2 (Disjoint)_err: [1.11e-02 4.05e-05 2.51e-02 8.21e-03]\n",
      "./figs/H09M22S57_10-01-22pzqjt.pdf\n"
     ]
    },
    {
     "data": {
      "image/png": "[encoded data removed]",
      "text/plain": [
       "<Figure size 720x504 with 1 Axes>"
      ]
     },
     "metadata": {
      "needs_background": "light"
     },
     "output_type": "display_data"
    },
    {
     "data": {
      "image/png": "[encoded data removed]",
      "text/plain": [
       "<Figure size 720x504 with 1 Axes>"
      ]
     },
     "metadata": {
      "needs_background": "light"
     },
     "output_type": "display_data"
    }
   ],
   "source": [
    "run_simulation(genre_sets=[[1, 2, 18, 19], [1, 2, 6, 19] ], ITERS=2)"
   ]
  },
  {
   "cell_type": "code",
   "execution_count": null,
   "id": "ad346813",
   "metadata": {},
   "outputs": [],
   "source": []
  },
  {
   "cell_type": "code",
   "execution_count": null,
   "id": "eff54dad",
   "metadata": {},
   "outputs": [],
   "source": []
  },
  {
   "cell_type": "code",
   "execution_count": null,
   "id": "a2945eea",
   "metadata": {},
   "outputs": [],
   "source": []
  },
  {
   "cell_type": "code",
   "execution_count": null,
   "id": "55158aea",
   "metadata": {},
   "outputs": [],
   "source": []
  },
  {
   "cell_type": "markdown",
   "id": "07fb0bfb",
   "metadata": {},
   "source": [
    "## NonMonotone Simulation A1 (and approximation) (3.5 hours)"
   ]
  },
  {
   "cell_type": "markdown",
   "id": "d4e4f657",
   "metadata": {},
   "source": [
    "Action, Adventure, Western, War\n",
    "Action, Adventure, Crime, Western\n",
    "\n",
    "1 action\n",
    "2 adventure\n",
    "3 animation\n",
    "4 children\n",
    "5 comedy\n",
    "6 crime\n",
    "7 documentary\n",
    "8 drama\n",
    "9 fantasy\n",
    "11 horror\n",
    "13 musical\n",
    "14 mystery\n",
    "15 romance\n",
    "16 sci-fi\n",
    "17 thriller\n",
    "18 war\n",
    "19 western"
   ]
  },
  {
   "cell_type": "code",
   "execution_count": 77,
   "id": "c36c6d54",
   "metadata": {
    "scrolled": true
   },
   "outputs": [
    {
     "name": "stderr",
     "output_type": "stream",
     "text": [
      "\r",
      "  0%|          | 0/2 [00:00<?, ?it/s]"
     ]
    },
    {
     "name": "stdout",
     "output_type": "stream",
     "text": [
      "Genre: ['action', 'adventure', 'war', 'western']\n"
     ]
    },
    {
     "name": "stderr",
     "output_type": "stream",
     "text": [
      "\n",
      "  0%|          | 0/4 [00:00<?, ?it/s]\u001b[A\n",
      " 25%|██▌       | 1/4 [00:04<00:12,  4.14s/it]\u001b[A\n",
      " 50%|█████     | 2/4 [00:14<00:15,  7.72s/it]\u001b[A\n",
      " 75%|███████▌  | 3/4 [00:20<00:07,  7.15s/it]\u001b[A\n",
      "100%|██████████| 4/4 [00:31<00:00,  7.89s/it]\u001b[A\n",
      " 50%|█████     | 1/2 [00:31<00:31, 31.71s/it]"
     ]
    },
    {
     "name": "stdout",
     "output_type": "stream",
     "text": [
      "y_uncons = [3.31 3.42 3.62 3.6 ]\n",
      "y_disj = [3.46 3.56 3.62 3.64]\n",
      "y_uncons_err = [0.03 0.15 0.05 0.01]\n",
      "y_disj_err = [0.   0.12 0.04 0.03]\n",
      "Ratio of opt for uncons= [0.82 0.87 0.95 0.95]\n",
      "Ratio of opt for Disj= [0.86 0.9  0.95 0.96]\n",
      "./figs/H12M56S26_07-28-22vcsqq.pdf\n",
      "Genre: ['action', 'adventure', 'crime', 'western']\n"
     ]
    },
    {
     "name": "stderr",
     "output_type": "stream",
     "text": [
      "\n",
      "  0%|          | 0/4 [00:00<?, ?it/s]\u001b[A\n",
      " 25%|██▌       | 1/4 [00:02<00:08,  2.93s/it]\u001b[A\n",
      " 50%|█████     | 2/4 [00:15<00:16,  8.50s/it]\u001b[A\n",
      " 75%|███████▌  | 3/4 [00:29<00:10, 10.98s/it]\u001b[A\n",
      "100%|██████████| 4/4 [00:40<00:00, 10.22s/it]\u001b[A\n",
      "100%|██████████| 2/2 [01:12<00:00, 36.38s/it]\n"
     ]
    },
    {
     "name": "stdout",
     "output_type": "stream",
     "text": [
      "y_uncons = [3.42 3.67 3.45 3.3 ]\n",
      "y_disj = [3.55 3.6  3.53 3.42]\n",
      "y_uncons_err = [0.15 0.01 0.   0.14]\n",
      "y_disj_err = [0.09 0.04 0.01 0.13]\n",
      "Ratio of opt for uncons= [0.86 0.9  0.89 0.91]\n",
      "Ratio of opt for Disj= [0.89 0.88 0.91 0.95]\n",
      "./figs/H12M57S07_07-28-22twfzq.pdf\n"
     ]
    },
    {
     "data": {
      "image/png": "[encoded data removed]",
      "text/plain": [
       "<Figure size 720x504 with 1 Axes>"
      ]
     },
     "metadata": {
      "needs_background": "light"
     },
     "output_type": "display_data"
    },
    {
     "data": {
      "image/png": "[encoded data removed]",
      "text/plain": [
       "<Figure size 720x504 with 1 Axes>"
      ]
     },
     "metadata": {
      "needs_background": "light"
     },
     "output_type": "display_data"
    }
   ],
   "source": [
    "run_simulation(genre_sets=[[1, 2, 18, 19], [1, 2, 6, 19] ], ITERS=2)"
   ]
  },
  {
   "cell_type": "code",
   "execution_count": 78,
   "id": "90517753",
   "metadata": {
    "scrolled": true
   },
   "outputs": [
    {
     "name": "stderr",
     "output_type": "stream",
     "text": [
      "\r",
      "  0%|          | 0/2 [00:00<?, ?it/s]"
     ]
    },
    {
     "name": "stdout",
     "output_type": "stream",
     "text": [
      "Genre: ['action', 'adventure', 'war', 'western']\n"
     ]
    },
    {
     "name": "stderr",
     "output_type": "stream",
     "text": [
      "\n",
      "  0%|          | 0/4 [00:00<?, ?it/s]\u001b[A\n",
      " 25%|██▌       | 1/4 [00:06<00:18,  6.14s/it]\u001b[A\n",
      " 50%|█████     | 2/4 [00:24<00:27, 13.53s/it]\u001b[A\n",
      " 75%|███████▌  | 3/4 [01:12<00:28, 28.95s/it]\u001b[A\n",
      "100%|██████████| 4/4 [01:55<00:00, 28.86s/it]\u001b[A\n",
      " 50%|█████     | 1/2 [01:55<01:55, 115.62s/it]"
     ]
    },
    {
     "name": "stdout",
     "output_type": "stream",
     "text": [
      "y_uncons = [3.51 3.4  3.44 3.56]\n",
      "y_disj = [3.64 3.45 3.52 3.6 ]\n",
      "y_uncons_err = [0.08 0.07 0.08 0.04]\n",
      "y_disj_err = [0.06 0.06 0.08 0.05]\n",
      "Ratio of opt for uncons= [0.87 0.9  0.89 0.94]\n",
      "Ratio of opt for Disj= [0.9  0.91 0.91 0.95]\n",
      "./figs/H12M59S03_07-28-22bsvhz.pdf\n",
      "Genre: ['action', 'adventure', 'crime', 'western']\n"
     ]
    },
    {
     "name": "stderr",
     "output_type": "stream",
     "text": [
      "\n",
      "  0%|          | 0/4 [00:00<?, ?it/s]\u001b[A\n",
      " 25%|██▌       | 1/4 [00:15<00:46, 15.58s/it]\u001b[A\n",
      " 50%|█████     | 2/4 [00:36<00:37, 18.90s/it]\u001b[A\n",
      " 75%|███████▌  | 3/4 [01:01<00:21, 21.35s/it]\u001b[A\n",
      "100%|██████████| 4/4 [01:34<00:00, 23.65s/it]\u001b[A\n",
      "100%|██████████| 2/2 [03:30<00:00, 105.20s/it]\n"
     ]
    },
    {
     "name": "stdout",
     "output_type": "stream",
     "text": [
      "y_uncons = [3.49 3.49 3.44 3.52]\n",
      "y_disj = [3.57 3.55 3.48 3.53]\n",
      "y_uncons_err = [0.08 0.11 0.06 0.04]\n",
      "y_disj_err = [0.06 0.07 0.06 0.03]\n",
      "Ratio of opt for uncons= [0.86 0.89 0.93 0.94]\n",
      "Ratio of opt for Disj= [0.88 0.9  0.94 0.94]\n",
      "./figs/H13M00S37_07-28-22yfskk.pdf\n"
     ]
    },
    {
     "data": {
      "image/png": "[encoded data removed]",
      "text/plain": [
       "<Figure size 720x504 with 1 Axes>"
      ]
     },
     "metadata": {
      "needs_background": "light"
     },
     "output_type": "display_data"
    },
    {
     "data": {
      "image/png": "[encoded data removed]",
      "text/plain": [
       "<Figure size 720x504 with 1 Axes>"
      ]
     },
     "metadata": {
      "needs_background": "light"
     },
     "output_type": "display_data"
    }
   ],
   "source": [
    "run_simulation(genre_sets=[[1, 2, 18, 19], [1, 2, 6, 19] ], ITERS=5)"
   ]
  },
  {
   "cell_type": "code",
   "execution_count": 79,
   "id": "e77721a5",
   "metadata": {
    "scrolled": true
   },
   "outputs": [
    {
     "name": "stderr",
     "output_type": "stream",
     "text": [
      "\r",
      "  0%|          | 0/2 [00:00<?, ?it/s]"
     ]
    },
    {
     "name": "stdout",
     "output_type": "stream",
     "text": [
      "Genre: ['action', 'adventure', 'war', 'western']\n"
     ]
    },
    {
     "name": "stderr",
     "output_type": "stream",
     "text": [
      "\n",
      "  0%|          | 0/4 [00:00<?, ?it/s]\u001b[A\n",
      " 25%|██▌       | 1/4 [09:12<27:37, 552.38s/it]\u001b[A\n",
      " 50%|█████     | 2/4 [30:52<33:04, 992.50s/it]\u001b[A\n",
      " 75%|███████▌  | 3/4 [59:48<22:11, 1331.87s/it]\u001b[A\n",
      "100%|██████████| 4/4 [1:38:17<00:00, 1474.48s/it]\u001b[A\n",
      " 50%|█████     | 1/2 [1:38:18<1:38:18, 5898.08s/it]"
     ]
    },
    {
     "name": "stdout",
     "output_type": "stream",
     "text": [
      "y_uncons = [3.46 3.47 3.47 3.48]\n",
      "y_disj = [3.56 3.55 3.54 3.53]\n",
      "y_uncons_err = [0.01 0.01 0.01 0.01]\n",
      "y_disj_err = [0.01 0.01 0.01 0.01]\n",
      "Ratio of opt for uncons= [0.85 0.88 0.9  0.92]\n",
      "Ratio of opt for Disj= [0.88 0.9  0.92 0.93]\n",
      "./figs/H14M38S56_07-28-22wrfqq.pdf\n",
      "Genre: ['action', 'adventure', 'crime', 'western']\n"
     ]
    },
    {
     "name": "stderr",
     "output_type": "stream",
     "text": [
      "\n",
      "  0%|          | 0/4 [00:00<?, ?it/s]\u001b[A\n",
      " 25%|██▌       | 1/4 [09:27<28:23, 567.82s/it]\u001b[A\n",
      " 50%|█████     | 2/4 [28:11<29:49, 894.58s/it]\u001b[A\n",
      " 75%|███████▌  | 3/4 [55:06<20:23, 1223.61s/it]\u001b[A\n",
      "100%|██████████| 4/4 [1:30:41<00:00, 1360.31s/it]\u001b[A\n",
      "100%|██████████| 2/2 [3:08:59<00:00, 5669.75s/it]  \n"
     ]
    },
    {
     "name": "stdout",
     "output_type": "stream",
     "text": [
      "y_uncons = [3.5  3.5  3.48 3.51]\n",
      "y_disj = [3.58 3.58 3.55 3.57]\n",
      "y_uncons_err = [0.01 0.01 0.01 0.01]\n",
      "y_disj_err = [0.01 0.01 0.01 0.01]\n",
      "Ratio of opt for uncons= [0.86 0.88 0.9  0.92]\n",
      "Ratio of opt for Disj= [0.88 0.9  0.92 0.93]\n",
      "./figs/H16M09S37_07-28-22anthj.pdf\n"
     ]
    },
    {
     "data": {
      "image/png": "[encoded data removed]",
      "text/plain": [
       "<Figure size 720x504 with 1 Axes>"
      ]
     },
     "metadata": {
      "needs_background": "light"
     },
     "output_type": "display_data"
    },
    {
     "data": {
      "image/png": "[encoded data removed]",
      "text/plain": [
       "<Figure size 720x504 with 1 Axes>"
      ]
     },
     "metadata": {
      "needs_background": "light"
     },
     "output_type": "display_data"
    }
   ],
   "source": [
    "run_simulation(genre_sets=[[1, 2, 18, 19], [1, 2, 6, 19] ], ITERS=200)"
   ]
  },
  {
   "cell_type": "code",
   "execution_count": null,
   "id": "e44245cc",
   "metadata": {},
   "outputs": [],
   "source": []
  }
 ],
 "metadata": {
  "kernelspec": {
   "display_name": "Python 3",
   "language": "python",
   "name": "python3"
  },
  "language_info": {
   "codemirror_mode": {
    "name": "ipython",
    "version": 3
   },
   "file_extension": ".py",
   "mimetype": "text/x-python",
   "name": "python",
   "nbconvert_exporter": "python",
   "pygments_lexer": "ipython3",
   "version": "3.6.9"
  }
 },
 "nbformat": 4,
 "nbformat_minor": 5
}
