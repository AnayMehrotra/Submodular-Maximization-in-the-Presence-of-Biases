{
 "cells": [
  {
   "cell_type": "markdown",
   "id": "82b8c73c",
   "metadata": {
    "toc": true
   },
   "source": [
    "<h1>Table of Contents<span class=\"tocSkip\"></span></h1>\n",
    "<div class=\"toc\"><ul class=\"toc-item\"><li><span><a href=\"#1.-Helper-Functions\" data-toc-modified-id=\"1.-Helper-Functions-1\"><span class=\"toc-item-num\">1&nbsp;&nbsp;</span>1. Helper Functions</a></span></li><li><span><a href=\"#2.-Parse-Data\" data-toc-modified-id=\"2.-Parse-Data-2\"><span class=\"toc-item-num\">2&nbsp;&nbsp;</span>2. Parse Data</a></span><ul class=\"toc-item\"><li><span><a href=\"#2.1.-Fetch-Relevance-Scores\" data-toc-modified-id=\"2.1.-Fetch-Relevance-Scores-2.1\"><span class=\"toc-item-num\">2.1&nbsp;&nbsp;</span>2.1. Fetch Relevance Scores</a></span></li><li><span><a href=\"#2.2.-Fetch-User-Ratings\" data-toc-modified-id=\"2.2.-Fetch-User-Ratings-2.2\"><span class=\"toc-item-num\">2.2&nbsp;&nbsp;</span>2.2. Fetch User Ratings</a></span></li><li><span><a href=\"#3.-Fetch-name-of-lead-actor\" data-toc-modified-id=\"3.-Fetch-name-of-lead-actor-2.3\"><span class=\"toc-item-num\">2.3&nbsp;&nbsp;</span>3. Fetch name of lead actor</a></span></li><li><span><a href=\"#4.-Predict-(binary)-genders-of-lead-actors\" data-toc-modified-id=\"4.-Predict-(binary)-genders-of-lead-actors-2.4\"><span class=\"toc-item-num\">2.4&nbsp;&nbsp;</span>4. Predict (binary) genders of lead actors</a></span><ul class=\"toc-item\"><li><span><a href=\"#The-data-in-the-cell-right-below-is-not-reported-in-the-paper\" data-toc-modified-id=\"The-data-in-the-cell-right-below-is-not-reported-in-the-paper-2.4.1\"><span class=\"toc-item-num\">2.4.1&nbsp;&nbsp;</span>The data in the cell right below is not reported in the paper</a></span></li><li><span><a href=\"#Table-1-in-paper\" data-toc-modified-id=\"Table-1-in-paper-2.4.2\"><span class=\"toc-item-num\">2.4.2&nbsp;&nbsp;</span>Table 1 in paper</a></span></li><li><span><a href=\"#Table-2-in-paper\" data-toc-modified-id=\"Table-2-in-paper-2.4.3\"><span class=\"toc-item-num\">2.4.3&nbsp;&nbsp;</span>Table 2 in paper</a></span></li></ul></li><li><span><a href=\"#Simulation\" data-toc-modified-id=\"Simulation-2.5\"><span class=\"toc-item-num\">2.5&nbsp;&nbsp;</span>Simulation</a></span></li></ul></li><li><span><a href=\"#Simulation\" data-toc-modified-id=\"Simulation-3\"><span class=\"toc-item-num\">3&nbsp;&nbsp;</span>Simulation</a></span></li></ul></div>"
   ]
  },
  {
   "cell_type": "code",
   "execution_count": null,
   "id": "2b07a89c",
   "metadata": {},
   "outputs": [],
   "source": [
    "import numpy as np\n",
    "import sys\n",
    "import csv\n",
    "import random\n",
    "import copy\n",
    "import string\n",
    "import time\n",
    "import datetime\n",
    "import itertools\n",
    "from tqdm import tqdm\n",
    "from scipy.stats import pareto\n",
    "import matplotlib.pyplot as plt\n",
    "from matplotlib import rc, rcParams\n",
    "rng = np.random.default_rng(int(time.time())) #(1234)\n",
    "from pdb import set_trace as bp"
   ]
  },
  {
   "cell_type": "markdown",
   "id": "ad5d731e",
   "metadata": {},
   "source": [
    "# 1. Helper Functions"
   ]
  },
  {
   "cell_type": "code",
   "execution_count": null,
   "id": "54630c5a",
   "metadata": {},
   "outputs": [],
   "source": [
    "##########################################\n",
    "#### Functions for plotting Functions  ###\n",
    "##########################################\n",
    "exec(open('../utils.py').read())"
   ]
  },
  {
   "cell_type": "code",
   "execution_count": null,
   "id": "5f0815f2",
   "metadata": {},
   "outputs": [],
   "source": [
    "##################################################\n",
    "####### Fetch: General Helper Functions  #########\n",
    "##################################################\n",
    "exec(open('../utils-extended.py').read())"
   ]
  },
  {
   "cell_type": "code",
   "execution_count": null,
   "id": "0a85ec66",
   "metadata": {},
   "outputs": [],
   "source": [
    "DEBUG = False\n",
    "def print_debug(s):\n",
    "    if DEBUG: print(s)"
   ]
  },
  {
   "cell_type": "code",
   "execution_count": null,
   "id": "02914ea3",
   "metadata": {},
   "outputs": [],
   "source": [
    "##########################################\n",
    "### Fetch: Algorithms and Baseline ######\n",
    "##########################################\n",
    "exec(open('../algorithms.py').read())"
   ]
  },
  {
   "cell_type": "code",
   "execution_count": null,
   "id": "2fb8196a",
   "metadata": {},
   "outputs": [],
   "source": [
    "SAME_G = True \n",
    "func = lambda x: np.sqrt(x)\n",
    "func2 = lambda x: np.sqrt(x)\n",
    "\n",
    "def F(sol, obs_util, m):\n",
    "    v = 0\n",
    "\n",
    "    for j in range(m):\n",
    "        tmp = np.sum(sorted([obs_util[i][j] for i in sol], reverse=True))\n",
    "        if j != 1:\n",
    "            v += func(tmp) * weight_F[j]\n",
    "        else:\n",
    "            if not SAME_G:\n",
    "                v += func2(tmp) * weight_F[j]\n",
    "            else:\n",
    "                v += func(tmp) * weight_F[j]\n",
    "    return v\n",
    "\n",
    "def marg_F(sol, item, obs_util, m):\n",
    "    sol2 = copy.deepcopy(sol)\n",
    "    sol2.append(item)\n",
    "    return F(sol2, obs_util, m) - F(sol, obs_util, m)\n",
    "\n",
    "def marg_F_mult(sol, items, obs_util, m, pr=False):\n",
    "    v = np.array([0 for j in range(m)])\n",
    "\n",
    "    for j in range(m):\n",
    "        tmp = [obs_util[i][j] for i in sol]\n",
    "        v[j] += np.sum(tmp)\n",
    "        \n",
    "    cur_util = 0\n",
    "    for j in range(m):\n",
    "        if j != 1:\n",
    "            cur_util += func(v[j]) * weight_F[j]\n",
    "        else:\n",
    "            if not SAME_G:\n",
    "                cur_util += func2(v[j]) * weight_F[j]\n",
    "            else:\n",
    "                cur_util += func(v[j]) * weight_F[j]\n",
    "\n",
    "    utils = []\n",
    "    for i in items:\n",
    "        if i in sol:\n",
    "            utils.append(0)\n",
    "        else:\n",
    "            assert(obs_util[i][j] >= 0)\n",
    "            new_util = 0\n",
    "            for j in range(m):\n",
    "                if j != 1:\n",
    "                    new_util += func(v[j] + obs_util[i][j]) * weight_F[j]\n",
    "                else:\n",
    "                    if not SAME_G:\n",
    "                        new_util += func2(v[j] + obs_util[i][j]) * weight_F[j]\n",
    "                    else:\n",
    "                        new_util += func(v[j] + obs_util[i][j]) * weight_F[j]\n",
    "            assert(new_util >= cur_util)\n",
    "            utils.append(new_util - cur_util)\n",
    "    return utils\n"
   ]
  },
  {
   "cell_type": "code",
   "execution_count": null,
   "id": "7ad58479",
   "metadata": {},
   "outputs": [],
   "source": []
  },
  {
   "cell_type": "code",
   "execution_count": null,
   "id": "a899d257",
   "metadata": {},
   "outputs": [],
   "source": [
    "####################################################\n",
    "### Fetch: Helper function for the simulation ######\n",
    "####################################################\n",
    "exec(open('simulation-utils.py').read())"
   ]
  },
  {
   "cell_type": "markdown",
   "id": "3dc5c092",
   "metadata": {},
   "source": [
    "# 2. Parse Data"
   ]
  },
  {
   "cell_type": "code",
   "execution_count": null,
   "id": "22f3a785",
   "metadata": {
    "code_folding": [
     8
    ]
   },
   "outputs": [],
   "source": [
    "genres = set()\n",
    "movie_ids = []\n",
    "movie_id_to_index = {}\n",
    "user_ids = []\n",
    "movie_names = {}\n",
    "\n",
    "with open('ml-20m/movies.csv') as csv_file:\n",
    "    csv_reader = csv.reader(csv_file, delimiter=',')\n",
    "    i = 0\n",
    "    \n",
    "    for row in csv_reader:\n",
    "        if i == 0: \n",
    "            i += 1\n",
    "            continue \n",
    "            \n",
    "        movie_ids.append(int(row[0]))\n",
    "        movie_id_to_index[int(row[0])] = i-1\n",
    "        movie_names[i-1] = row[1]\n",
    "        \n",
    "        tmp_genres = row[2].split('|')\n",
    "        for g in tmp_genres:\n",
    "            genres.add(g)\n",
    "            \n",
    "        i += 1\n",
    "\n",
    "genres = sorted(list(genres))\n",
    "\n",
    "movie_genres = np.zeros((len(movie_ids), len(genres)))\n",
    "\n",
    "with open('ml-20m/movies.csv') as csv_file:\n",
    "    csv_reader = csv.reader(csv_file, delimiter=',')\n",
    "    i = 0\n",
    "    \n",
    "    for row in csv_reader:\n",
    "        if i == 0: \n",
    "            i += 1\n",
    "            continue \n",
    "         \n",
    "        tmp_genres = row[2].split('|')\n",
    "        for g1 in tmp_genres:\n",
    "            for j, g2 in enumerate(genres):\n",
    "                if g1 == g2:\n",
    "                    movie_genres[i-1][j] = 1\n",
    "                    \n",
    "        i += 1"
   ]
  },
  {
   "cell_type": "code",
   "execution_count": null,
   "id": "e6280c8d",
   "metadata": {
    "code_folding": [
     6
    ]
   },
   "outputs": [],
   "source": [
    "print(f'There are {len(movie_ids)} movies')\n",
    "print(f'There are {len(genres)} unique genres')\n",
    "print(f'On average there are {np.sum(movie_genres) / len(movie_ids)} genres per movie')\n",
    "\n",
    "print('')\n",
    "\n",
    "for j in range(10):\n",
    "    print(f'{np.round(np.mean(np.sum(movie_genres, axis=1)==j)*100, 2)}%\\tof movies have {j} genre(s)')\n",
    "    \n",
    "print('')\n",
    "\n",
    "print(f'Maximum number of genres of a movie are {np.max(np.sum(movie_genres, axis=1))}')"
   ]
  },
  {
   "cell_type": "code",
   "execution_count": null,
   "id": "de627f1c",
   "metadata": {},
   "outputs": [],
   "source": [
    "genres"
   ]
  },
  {
   "cell_type": "markdown",
   "id": "32e57810",
   "metadata": {},
   "source": [
    "## 2.1. Fetch Relevance Scores"
   ]
  },
  {
   "cell_type": "code",
   "execution_count": null,
   "id": "04239f71",
   "metadata": {},
   "outputs": [],
   "source": [
    "# convert genre names to lower case (to match the names of 'tags')\n",
    "for i in range(len(genres)):\n",
    "    genres[i] = genres[i].lower()"
   ]
  },
  {
   "cell_type": "code",
   "execution_count": null,
   "id": "8d856b5c",
   "metadata": {
    "code_folding": [
     2
    ]
   },
   "outputs": [],
   "source": [
    "tags = []\n",
    "\n",
    "\n",
    "with open('ml-20m/genome-tags.csv') as csv_file:\n",
    "    csv_reader = csv.reader(csv_file, delimiter=',')\n",
    "    i = 0\n",
    "    \n",
    "    for row in tqdm(csv_reader):\n",
    "        if i == 0: \n",
    "            i += 1\n",
    "            continue \n",
    "            \n",
    "        tags.append(row[1])\n",
    "            \n",
    "        i += 1\n",
    "\n",
    "\n",
    "rev_tags = {} # tag name to index mapping\n",
    "for i, t in enumerate(tags):\n",
    "    rev_tags[t] = i\n",
    "    \n",
    "cnt = 0 # count number of genres not in tags \n",
    "for g in genres:\n",
    "    if g not in tags:\n",
    "        cnt += 1\n",
    "        \n",
    "print(f'{cnt} genre(s) are absent from tags')\n",
    "assert(cnt == 3)\n",
    "\n",
    "movie_tag_rel_scores = {}\n",
    "movie_ind_with_scores = set()\n",
    "\n",
    "with open('ml-20m/genome-scores.csv') as csv_file:\n",
    "    csv_reader = csv.reader(csv_file, delimiter=',')\n",
    "    i = 0\n",
    "    \n",
    "    for row in tqdm(csv_reader):\n",
    "        if i == 0: \n",
    "            i += 1\n",
    "            continue\n",
    "        \n",
    "        mov_id = movie_id_to_index[int(row[0])]\n",
    "        tag_id = int(row[1])-1\n",
    "        movie_ind_with_scores.add(mov_id)\n",
    "        score = float(row[2])\n",
    "        \n",
    "        if tags[tag_id] not in genres: continue \n",
    "            \n",
    "        if mov_id not in movie_tag_rel_scores:\n",
    "            movie_tag_rel_scores[mov_id] = {}\n",
    "        \n",
    "        movie_tag_rel_scores[mov_id][tag_id] = score\n",
    "            \n",
    "        i += 1\n"
   ]
  },
  {
   "cell_type": "code",
   "execution_count": null,
   "id": "a8572655",
   "metadata": {},
   "outputs": [],
   "source": [
    "print(f'{np.round(len(movie_ind_with_scores)/len(movie_ids)*100, 2)}% of the movies have relevance scores')"
   ]
  },
  {
   "cell_type": "markdown",
   "id": "20bb8574",
   "metadata": {},
   "source": [
    "## 2.2. Fetch User Ratings"
   ]
  },
  {
   "cell_type": "code",
   "execution_count": null,
   "id": "92d1a074",
   "metadata": {},
   "outputs": [],
   "source": [
    "user_ratings = {} # userid x (list of dictionaries describing each rating given by this user_id)\n",
    "movie_rating_cnt = {} # movie index x number of total ratings given to this movie index\n",
    "movie_rating_sum = {} # movie index x sum of total ratings given to this movie index"
   ]
  },
  {
   "cell_type": "code",
   "execution_count": null,
   "id": "b96bd51d",
   "metadata": {
    "code_folding": []
   },
   "outputs": [],
   "source": [
    "with open('ml-20m/ratings.csv') as csv_file:\n",
    "    csv_reader = csv.reader(csv_file, delimiter=',')\n",
    "    i = 0\n",
    "    \n",
    "    for row in tqdm(csv_reader):\n",
    "        if i == 0: \n",
    "            i += 1\n",
    "            continue \n",
    "            \n",
    "        user_id = int(row[0]) \n",
    "        mov_ind = movie_id_to_index[int(row[1])]\n",
    "        rating = float(row[2])\n",
    "        \n",
    "        if user_id not in user_ratings:\n",
    "            user_ratings[user_id] = []\n",
    "        if mov_ind not in movie_rating_cnt:\n",
    "            movie_rating_cnt[mov_ind] = 0\n",
    "        if mov_ind not in movie_rating_sum:\n",
    "            movie_rating_sum[mov_ind] = 0\n",
    "\n",
    "        user_ratings[user_id].append({'movie_id': int(row[1]), 'movie_index': mov_ind, 'rating': rating})\n",
    "        movie_rating_cnt[mov_ind] += 1\n",
    "        movie_rating_sum[mov_ind] += rating\n",
    "        \n",
    "        i += 1"
   ]
  },
  {
   "cell_type": "markdown",
   "id": "0c1a4a5b",
   "metadata": {},
   "source": [
    "## 3. Fetch name of lead actor"
   ]
  },
  {
   "cell_type": "code",
   "execution_count": null,
   "id": "3af895d4",
   "metadata": {},
   "outputs": [],
   "source": [
    "import os\n",
    "import pickle\n",
    "import requests\n",
    "from bs4 import BeautifulSoup\n",
    "from joblib import Parallel, delayed"
   ]
  },
  {
   "cell_type": "code",
   "execution_count": null,
   "id": "6dcdfdd7",
   "metadata": {
    "code_folding": [],
    "scrolled": true
   },
   "outputs": [],
   "source": [
    "missing = 0\n",
    "parsing_error = 0\n",
    "parsing_errors = []\n",
    "movie_cast = {}\n",
    "cnt_exception = 0\n",
    "\n",
    "if False:\n",
    "    for i in tqdm(movie_ids):\n",
    "        if not os.path.isfile('scraped_pages/'+str(i)+'.html'): \n",
    "            missing += 1\n",
    "            continue\n",
    "\n",
    "        try:\n",
    "            f = open('scraped_pages/'+str(i)+'.html', \"r\")\n",
    "            soup = BeautifulSoup(f.read(), \"html.parser\")\n",
    "            results = soup.find(id = \"main-container\")\n",
    "\n",
    "            data_elements = results.find_all(\"div\", class_=\"heading-and-data\")\n",
    "\n",
    "            cast = data_elements[-2].find_all(\"span\")\n",
    "\n",
    "            movie_cast[i] = []\n",
    "\n",
    "            for c in cast:\n",
    "                movie_cast[i].append(c.find_all(\"a\")[0].text)\n",
    "        except:\n",
    "            print(f'Error in parsing movie {i}')\n",
    "            parsing_errors.append(i)\n",
    "\n",
    "            cnt_exception += 1\n",
    "            \n",
    "    \n",
    "    filehandler = open(f\"movie_cast\"+file_str()+rand_string(5)+\".obj\",\"wb\")\n",
    "    pickle.dump(movie_cast, filehandler)\n",
    "    filehandler.close()\n"
   ]
  },
  {
   "cell_type": "code",
   "execution_count": null,
   "id": "4bda7681",
   "metadata": {},
   "outputs": [],
   "source": [
    "filehandler = open(f\"movie_castH00M17S52_05-13-22gdipj.obj\",\"rb\")\n",
    "movie_cast = pickle.load(filehandler) # a dictionary: movie_id x a list of cast members' names [movie id is changed to movie index below]\n",
    "filehandler.close()"
   ]
  },
  {
   "cell_type": "code",
   "execution_count": null,
   "id": "fc0c06db",
   "metadata": {},
   "outputs": [],
   "source": [
    "movie_cast_ind = {}\n",
    "\n",
    "for k in movie_cast.keys():\n",
    "    movie_cast_ind[movie_id_to_index[k]] = copy.deepcopy(movie_cast[k])"
   ]
  },
  {
   "cell_type": "code",
   "execution_count": null,
   "id": "b24c3bb2",
   "metadata": {},
   "outputs": [],
   "source": [
    "movie_cast = movie_cast_ind # a dictionary: movie index x a list of cast members' names"
   ]
  },
  {
   "cell_type": "markdown",
   "id": "7b022aed",
   "metadata": {},
   "source": [
    "## 4. Predict (binary) genders of lead actors"
   ]
  },
  {
   "cell_type": "code",
   "execution_count": null,
   "id": "bcca4ba0",
   "metadata": {},
   "outputs": [],
   "source": [
    "run_genderize = False\n",
    "if run_genderize:\n",
    "    # Note: There are 27k movies in the dataset. We will call Genderize once for every movie\n",
    "    # This makes 27k calls to Genderize which exceeds the 1k free API calls offered by Genderize\n",
    "    # We provide a pickled file with responses from Gendrize\n",
    "    # But if you would like to directly call the Genderize API pleas enter an API key below\n",
    "    from genderize import Genderize\n",
    "    \n",
    "    API_KEY = \"\"\n",
    "    genderize = Genderize(\n",
    "    user_agent='GenderizeDocs/0.0',\n",
    "    api_key=API_KEY,\n",
    "    timeout=5.0)"
   ]
  },
  {
   "cell_type": "code",
   "execution_count": null,
   "id": "2b3988e8",
   "metadata": {},
   "outputs": [],
   "source": []
  },
  {
   "cell_type": "code",
   "execution_count": null,
   "id": "ee6e6d57",
   "metadata": {},
   "outputs": [],
   "source": [
    "movie_ind_present = list(movie_cast.keys()) "
   ]
  },
  {
   "cell_type": "code",
   "execution_count": null,
   "id": "d87ddbb1",
   "metadata": {},
   "outputs": [],
   "source": [
    "genres_matching_tags = copy.deepcopy(genres)\n",
    "genres_matching_tags.remove('film-noir')\n",
    "genres_matching_tags.remove('imax')\n",
    "genres_matching_tags.remove('(no genres listed)')\n",
    "genres_matching_tags = sorted(genres_matching_tags)"
   ]
  },
  {
   "cell_type": "code",
   "execution_count": null,
   "id": "455a064c",
   "metadata": {},
   "outputs": [],
   "source": [
    "to_delete = []\n",
    "for ind in tqdm(movie_ind_present):\n",
    "    cast = movie_cast[ind]\n",
    "    if len(cast) == 0:\n",
    "        to_delete.append(ind)\n",
    "\n",
    "for m in to_delete:\n",
    "    movie_ind_present.remove(m)"
   ]
  },
  {
   "cell_type": "code",
   "execution_count": null,
   "id": "18cd80ce",
   "metadata": {
    "code_folding": [
     3,
     19
    ]
   },
   "outputs": [],
   "source": [
    "li = []\n",
    "cnt = 0\n",
    "j = 0\n",
    "for ind in tqdm(movie_ind_present):\n",
    "    if cnt % 100 == 0:\n",
    "        li.append([])\n",
    "        j += 1\n",
    "        \n",
    "    cast = movie_cast[ind]\n",
    "    if len(cast) == 0:\n",
    "        print('oops')\n",
    "        continue \n",
    "    lead = cast[0]\n",
    "    name = lead.split(' ')\n",
    "    first_name = name[0]\n",
    "    li[j-1].append((ind, first_name))\n",
    "    cnt += 1\n",
    "\n",
    "predictions_all = []\n",
    "\n",
    "############################\n",
    "### set `run_genderize=True` to call Genderize API (not necessary to execute the rest of the code)\n",
    "############################\n",
    "if run_genderize:\n",
    "    li = []\n",
    "    cnt = 0\n",
    "    j = 0\n",
    "    for i in tqdm(movie_ids_present):\n",
    "        if cnt % 100 == 0:\n",
    "            li.append([])\n",
    "            j += 1\n",
    "\n",
    "        cast = movie_cast[i]\n",
    "        if len(cast) == 0:\n",
    "            continue \n",
    "        lead = cast[0]\n",
    "        name = lead.split(' ')\n",
    "        first_name = name[0]\n",
    "        li[j-1].append((i, first_name))\n",
    "        cnt += 1\n",
    "\n",
    "    predictions_all = []\n",
    "\n",
    "    for jj in tqdm(range(j)):\n",
    "        names = [ll[1] for ll in li[jj]]\n",
    "\n",
    "        predictions = genderize.get(names)\n",
    "        predictions_all.extend(predictions)\n",
    "\n",
    "    filehandler = open(f\"predictions_all\"+file_str()+rand_string(5)+\".obj\",\"wb\")\n",
    "    pickle.dump(predictions_all, filehandler)\n",
    "    filehandler.close()"
   ]
  },
  {
   "cell_type": "code",
   "execution_count": null,
   "id": "557cf029",
   "metadata": {},
   "outputs": [],
   "source": []
  },
  {
   "cell_type": "code",
   "execution_count": null,
   "id": "64722391",
   "metadata": {},
   "outputs": [],
   "source": [
    "predictions_all"
   ]
  },
  {
   "cell_type": "code",
   "execution_count": null,
   "id": "2b4669fb",
   "metadata": {},
   "outputs": [],
   "source": [
    "# load pickled responses from Genderize\n",
    "if not run_genderize:\n",
    "    filehandler = open(f\"predictions_allH00M17S50_05-13-22liism.obj\",\"rb\")\n",
    "    predictions_all = pickle.load(filehandler) \n",
    "    filehandler.close()"
   ]
  },
  {
   "cell_type": "code",
   "execution_count": null,
   "id": "7d3b6b7a",
   "metadata": {},
   "outputs": [],
   "source": [
    "assert(len(predictions_all) == len(movie_ind_present))"
   ]
  },
  {
   "cell_type": "code",
   "execution_count": null,
   "id": "d0881a9a",
   "metadata": {},
   "outputs": [],
   "source": [
    "for i in range(len(predictions_all)):\n",
    "    \n",
    "    if movie_cast[movie_ind_present[i]][0].split(' ')[0] != predictions_all[i]['name']:\n",
    "        print(i)\n",
    "        print(predictions_all[i])\n",
    "        print(movie_cast[movie_ind_present[i]][0])\n",
    "        assert(False)\n",
    "    \n",
    "    # print(movie_cast[movie_ind_present[i]])"
   ]
  },
  {
   "cell_type": "code",
   "execution_count": null,
   "id": "24b61827",
   "metadata": {},
   "outputs": [],
   "source": []
  },
  {
   "cell_type": "code",
   "execution_count": null,
   "id": "210f6532",
   "metadata": {
    "code_folding": []
   },
   "outputs": [],
   "source": [
    "grps = [[], []]\n",
    "threshold_prob = 0.2 ### set this threshold to 0.5 to compute stats for Table 3 in the appendix\n",
    "threshold_count = 100\n",
    "fail_cnt = 0\n",
    "\n",
    "for i, ind in tqdm(enumerate(movie_ind_present)):\n",
    "    prediction = predictions_all[i]\n",
    "    \n",
    "    if ind not in movie_ind_with_scores:\n",
    "        continue \n",
    "\n",
    "    pred_female = -1\n",
    "    if prediction['gender'] == 'female':\n",
    "        pred_female = prediction['probability']\n",
    "    elif prediction['gender'] == 'male':\n",
    "        pred_female = 1-prediction['probability']\n",
    "    else:\n",
    "        fail_cnt += 1\n",
    "        continue \n",
    "\n",
    "    if pred_female > 1 - threshold_prob:\n",
    "        grps[1].append(ind)\n",
    "    elif pred_female < threshold_prob:\n",
    "        grps[0].append(ind)\n",
    "    else:\n",
    "        continue \n",
    "\n",
    "print(f'Genderize predicts the gender of the lead actor, with confidence',\n",
    "  f'{1-threshold_prob} or higher for',\n",
    "  f'{np.round((len(grps[0])+len(grps[1]))/len(movie_ind_with_scores), 2)} fraction of the movies (with scores)')"
   ]
  },
  {
   "cell_type": "code",
   "execution_count": null,
   "id": "cbac93d6",
   "metadata": {},
   "outputs": [],
   "source": [
    "print('number of male-led movies, female-led movies, and fraction of movies led by females')\n",
    "len(grps[0]), len(grps[1]), len(grps[1])/(len(grps[1])+len(grps[0]))"
   ]
  },
  {
   "cell_type": "markdown",
   "id": "2618883b",
   "metadata": {},
   "source": [
    "### The data in the cell right below is not reported in the paper"
   ]
  },
  {
   "cell_type": "code",
   "execution_count": null,
   "id": "91bef1e1",
   "metadata": {},
   "outputs": [],
   "source": [
    "####################################################################################\n",
    "####################################################################################\n",
    "### AVERAGE RELEVANCE SCORES OF FEMALE-LED AND MALE-LED MOVIES IN DIFFERENT GENRES\n",
    "####################################################################################\n",
    "####################################################################################\n",
    "grp_avgs = [np.zeros(len(genres_matching_tags)), np.zeros(len(genres_matching_tags))]\n",
    "\n",
    "fg=1\n",
    "cnt=0\n",
    "missing = {}\n",
    "for l in [0, 1]:\n",
    "    for ind in grps[l]:\n",
    "        for i, g in enumerate(genres_matching_tags):\n",
    "            if ind not in movie_tag_rel_scores:\n",
    "                missing[ind]=0\n",
    "                print(ind)\n",
    "                assert(False)\n",
    "            else:\n",
    "                grp_avgs[l][i] += movie_tag_rel_scores[ind][rev_tags[g]]\n",
    "\n",
    "    grp_avgs[l] /= len(grps[l])\n",
    "    \n",
    "print('AVERAGE RELEVANCE SCORES OF FEMALE-LED AND MALE-LED MOVIES IN DIFFERENT GENRES')\n",
    "print('')\n",
    "print(f\"Genre{' '*(10-len('Genre'))}\\tMale-led\\tFemale-led\\tRatio (female-led/male-led)\")\n",
    "print('-'*74)\n",
    "for i, g in enumerate(genres_matching_tags):\n",
    "    print(f\"{g}{' '*(10-len(g))} \\t{np.round(grp_avgs[0][i], 4)}\\t\\t{np.round(grp_avgs[1][i], 4)}\\t\\t{np.round(grp_avgs[1][i]/grp_avgs[0][i],4)}\")\n",
    "print('-'*74)\n",
    "print(f\"{'Total'}{' '*(10-len('Total'))} \\t{np.round(np.sum(grp_avgs[0]), 4)}\\t\\t{np.round(np.sum(grp_avgs[1]), 4)}\\t\\t{np.round(np.sum(grp_avgs[1])/np.sum(grp_avgs[0]),4)}\")    \n",
    "print('='*74)"
   ]
  },
  {
   "cell_type": "markdown",
   "id": "3023788b",
   "metadata": {},
   "source": [
    "### Table 1 in paper"
   ]
  },
  {
   "cell_type": "code",
   "execution_count": null,
   "id": "05fe06df",
   "metadata": {},
   "outputs": [],
   "source": [
    "####################################################################################\n",
    "####################################################################################\n",
    "### AVERAGE RELEVANCE SCORES OF FEMALE-LED AND MALE-LED MOVIES IN DIFFERENT GENRES (COMPUTED ONLY OVER MOVIES IN THE SPECIFIC GENRE)\n",
    "####################################################################################\n",
    "####################################################################################\n",
    "\n",
    "grp_avgs_conditioned_on_genre = [np.zeros(len(genres_matching_tags)), np.zeros(len(genres_matching_tags))]\n",
    "\n",
    "mp_genre_to_ind = {}\n",
    "for i, g in enumerate(genres):\n",
    "    mp_genre_to_ind[g] = i\n",
    "\n",
    "missing = {}\n",
    "for l in [0, 1]:\n",
    "    cnt = 0\n",
    "    for ind in tqdm(grps[l]):\n",
    "        for i, g in enumerate(genres_matching_tags):\n",
    "            g_ind = mp_genre_to_ind[g]\n",
    "            \n",
    "            if movie_genres[ind][g_ind] == 0: continue \n",
    "                \n",
    "            cnt += 1\n",
    "            \n",
    "            if ind not in movie_tag_rel_scores:\n",
    "                missing[ind]=0\n",
    "                print(ind)\n",
    "                assert(False)\n",
    "            else:\n",
    "                grp_avgs_conditioned_on_genre[l][i] += movie_tag_rel_scores[ind][rev_tags[g]]\n",
    "\n",
    "\n",
    "    grp_avgs_conditioned_on_genre[l] /= cnt \n",
    "    \n",
    "print('AVERAGE RELEVANCE SCORES OF FEMALE-LED AND MALE-LED MOVIES IN DIFFERENT GENRES (COMPUTED OVER MOVIES IN THIS GENRE)')\n",
    "print('')\n",
    "print(f\"Genre{' '*(10-len('Genre'))}\\tMale-led\\tFemale-led\\tRatio (female-led/male-led)\")\n",
    "print('-'*74)\n",
    "for i, g in enumerate(genres_matching_tags):\n",
    "    print(f\"{g}{' '*(10-len(g))} \\t{np.round(grp_avgs_conditioned_on_genre[0][i], 4)}\\t\\t{np.round(grp_avgs_conditioned_on_genre[1][i], 4)}\\t\\t{np.round(grp_avgs_conditioned_on_genre[1][i]/grp_avgs_conditioned_on_genre[0][i],4)}\")\n",
    "print('-'*74)\n",
    "print(f\"{'Total'}{' '*(10-len('Totalc'))} \\t{np.round(np.sum(grp_avgs_conditioned_on_genre[0]), 4)}\\t\\t{np.round(np.sum(grp_avgs_conditioned_on_genre[1]), 4)}\\t\\t{np.round(np.sum(grp_avgs_conditioned_on_genre[1])/np.sum(grp_avgs_conditioned_on_genre[0]),4)}\")    \n",
    "print('='*74)"
   ]
  },
  {
   "cell_type": "markdown",
   "id": "c2b9caf7",
   "metadata": {},
   "source": [
    "### Table 2 in paper"
   ]
  },
  {
   "cell_type": "code",
   "execution_count": null,
   "id": "2ae78042",
   "metadata": {},
   "outputs": [],
   "source": [
    "####################################################################################\n",
    "####################################################################################\n",
    "### AVERAGE USER RATINGS OF FEMALE-LED AND MALE-LED MOVIES IN DIFFERENT GENRES (COMPUTED ONLY OVER MOVIES IN THE SPECIFIC GENRE)\n",
    "####################################################################################\n",
    "####################################################################################\n",
    "\n",
    "\n",
    "grp_avg_ratings_conditioned_on_genre = [[[] for i in genres_matching_tags], [[] for i in genres_matching_tags]]\n",
    "\n",
    "for l in [0, 1]:\n",
    "    cnt = np.zeros(len(genres_matching_tags))\n",
    "    for ind in tqdm(grps[l]):\n",
    "        for i, g in enumerate(genres_matching_tags):\n",
    "            \n",
    "            g_ind = mp_genre_to_ind[g]\n",
    "            \n",
    "            if movie_genres[ind][g_ind] == 0: continue\n",
    "            \n",
    "            if ind not in movie_ind_with_scores:\n",
    "                print(ind)\n",
    "                assert(False)\n",
    "        \n",
    "            if ind not in movie_rating_sum: continue\n",
    "            if ind not in movie_rating_cnt: continue\n",
    "            cnt[i] += 1\n",
    "            assert(movie_rating_sum[ind] / movie_rating_cnt[ind]<=5)\n",
    "            if g == 'western':\n",
    "                print(movie_ids[ind], movie_rating_sum[ind] / movie_rating_cnt[ind], cnt[i])\n",
    "            grp_avg_ratings_conditioned_on_genre[l][i].append(movie_rating_sum[ind] / movie_rating_cnt[ind])\n",
    "            \n",
    "            \n",
    "np.set_printoptions(precision=2)\n",
    "for i in range(len(genres_matching_tags)):\n",
    "    print(f'Genre: {genres_matching_tags[i]}{\" \"*(10-len(genres_matching_tags[i]))}\\t'+\n",
    "          f'Ratio: {np.mean(grp_avg_ratings_conditioned_on_genre[1][i])/np.mean(grp_avg_ratings_conditioned_on_genre[0][i]):.2f}')\n",
    "    print(f'\\t{\" \"*(10)}\\t'+\n",
    "          f'Averages: {np.mean(grp_avg_ratings_conditioned_on_genre[0][i]):.2f} ({np.std(grp_avg_ratings_conditioned_on_genre[0][i]):.2f}),\\t'+\n",
    "          f'{np.mean(grp_avg_ratings_conditioned_on_genre[1][i]):.2f} ({np.std(grp_avg_ratings_conditioned_on_genre[1][i]):.2f})')"
   ]
  },
  {
   "cell_type": "code",
   "execution_count": null,
   "id": "994cf005",
   "metadata": {},
   "outputs": [],
   "source": [
    "grp_avg_ratings = [0, 0]\n",
    "\n",
    "for l in [0, 1]:\n",
    "    for ind in grps[l]:\n",
    "        # m_ind = movie_id_to_index[m]\n",
    "        if ind not in movie_ind_with_scores:\n",
    "            print(ind)\n",
    "            assert(False)\n",
    "        \n",
    "        if ind not in movie_rating_sum: continue\n",
    "        if ind not in movie_rating_cnt: continue\n",
    "        grp_avg_ratings[l] += movie_rating_sum[ind] / movie_rating_cnt[ind]\n",
    "    grp_avg_ratings[l] /= len(grps[l])\n",
    "    \n",
    "print(f'Ratio: {grp_avg_ratings[1]/grp_avg_ratings[0]}')\n",
    "print(f'Averages: {grp_avg_ratings[0], grp_avg_ratings[1]}')"
   ]
  },
  {
   "cell_type": "code",
   "execution_count": null,
   "id": "d4de89b1",
   "metadata": {},
   "outputs": [],
   "source": [
    "#############################\n",
    "#### Compute number of ratings submitted by each user \n",
    "#############################\n",
    "num_ratings_per_user = []\n",
    "cnt = 0\n",
    "\n",
    "\n",
    "for u in tqdm(user_ratings.keys()):\n",
    "    num_ratings_per_user.append(0)\n",
    "    \n",
    "    for r in user_ratings[u]:\n",
    "        if r['movie_index'] in movie_ind_with_scores:\n",
    "            num_ratings_per_user[-1] += 1 \n",
    "        else:\n",
    "            cnt += 1\n",
    "            \n",
    "print(cnt)\n",
    "            \n",
    "num_ratings_per_user = np.array(num_ratings_per_user)\n",
    "_ = plt.hist(np.clip(num_ratings_per_user, 0, 200), density=True, bins=30)\n"
   ]
  },
  {
   "cell_type": "code",
   "execution_count": null,
   "id": "9628ff19",
   "metadata": {},
   "outputs": [],
   "source": [
    "num_ratings_per_user = np.array(num_ratings_per_user)\n",
    "_ = plt.hist(np.clip(num_ratings_per_user, 0, 500), density=True, bins=30)"
   ]
  },
  {
   "cell_type": "code",
   "execution_count": null,
   "id": "502da206",
   "metadata": {},
   "outputs": [],
   "source": [
    "_ = plt.hist(np.clip(num_ratings_per_user, 0, 500), density=True, bins=100, cumulative=True)"
   ]
  },
  {
   "cell_type": "code",
   "execution_count": null,
   "id": "e2429038",
   "metadata": {},
   "outputs": [],
   "source": []
  },
  {
   "cell_type": "code",
   "execution_count": null,
   "id": "6a428569",
   "metadata": {},
   "outputs": [],
   "source": [
    "user_ratings_for_movies_with_scores = {}\n",
    "\n",
    "cnt=0\n",
    "for u in tqdm(user_ratings):\n",
    "    if u not in user_ratings_for_movies_with_scores:\n",
    "        user_ratings_for_movies_with_scores[u] = []\n",
    "        \n",
    "    for r in user_ratings[u]:\n",
    "        if r['movie_index'] in movie_ind_with_scores:\n",
    "            user_ratings_for_movies_with_scores[u].append(r)\n",
    "        else: cnt+=1\n",
    "            \n",
    "print(cnt)"
   ]
  },
  {
   "cell_type": "code",
   "execution_count": null,
   "id": "35871ad9",
   "metadata": {},
   "outputs": [],
   "source": [
    "threshold_on_user_rating_cnt = 200\n",
    "\n",
    "selected_users = []\n",
    "\n",
    "for u in tqdm(user_ratings_for_movies_with_scores.keys()):\n",
    "    if len(user_ratings_for_movies_with_scores[u]) >= threshold_on_user_rating_cnt:\n",
    "        selected_users.append(u)\n",
    "\n",
    "selected_users_set = set(selected_users)"
   ]
  },
  {
   "cell_type": "code",
   "execution_count": null,
   "id": "992ce7c4",
   "metadata": {},
   "outputs": [],
   "source": [
    "print(f'{len(selected_users) / 138493 * 100}% of the users submitted at least 200 ratings')"
   ]
  },
  {
   "cell_type": "code",
   "execution_count": null,
   "id": "0caef8dd",
   "metadata": {},
   "outputs": [],
   "source": [
    "#################################################################\n",
    "###### Update cnt/sum of movie ratings to only consider ratings from users in `selected_users_set`\n",
    "#################################################################\n",
    "\n",
    "movie_rating_cnt_selected = {}\n",
    "movie_rating_sum_selected = {}\n",
    "\n",
    "with open('ml-20m/ratings.csv') as csv_file:\n",
    "    csv_reader = csv.reader(csv_file, delimiter=',')\n",
    "    i = 0\n",
    "    \n",
    "    for row in tqdm(csv_reader):\n",
    "        if i == 0: \n",
    "            i += 1\n",
    "            continue \n",
    "            \n",
    "        user_id = int(row[0])\n",
    "        mov_ind = movie_id_to_index[int(row[1])]\n",
    "        rating = float(row[2])\n",
    "        # timestamp = int(row[3])\n",
    "        \n",
    "        if mov_ind not in movie_ind_with_scores:\n",
    "            continue \n",
    "        \n",
    "        if user_id not in selected_users_set: continue \n",
    "        \n",
    "        if mov_ind not in movie_rating_cnt_selected:\n",
    "            movie_rating_cnt_selected[mov_ind] = 0\n",
    "        if mov_ind not in movie_rating_sum_selected:\n",
    "            movie_rating_sum_selected[mov_ind] = 0\n",
    "\n",
    "        movie_rating_cnt_selected[mov_ind] += 1\n",
    "        movie_rating_sum_selected[mov_ind] += rating\n",
    "        \n",
    "        i += 1"
   ]
  },
  {
   "cell_type": "code",
   "execution_count": null,
   "id": "336fe338",
   "metadata": {},
   "outputs": [],
   "source": [
    "grp_avg_ratings_selected = [0, 0]\n",
    "\n",
    "for l in [0, 1]:\n",
    "    for ind in grps[l]:\n",
    "        \n",
    "        if ind not in movie_rating_sum_selected: continue\n",
    "        if ind not in movie_rating_cnt_selected: continue\n",
    "        grp_avg_ratings_selected[l] += movie_rating_sum_selected[ind] / movie_rating_cnt_selected[ind]\n",
    "    grp_avg_ratings_selected[l] /= len(grps[l])\n",
    "    \n",
    "print(f'Ratio: {grp_avg_ratings_selected[1]/grp_avg_ratings_selected[0]}')\n",
    "print(f'Averages: {grp_avg_ratings_selected[0], grp_avg_ratings_selected[1]}')"
   ]
  },
  {
   "cell_type": "code",
   "execution_count": null,
   "id": "77fb2058",
   "metadata": {},
   "outputs": [],
   "source": [
    "import gc\n",
    "gc.collect(2)"
   ]
  },
  {
   "cell_type": "code",
   "execution_count": null,
   "id": "526dc2c5",
   "metadata": {},
   "outputs": [],
   "source": [
    "genres"
   ]
  },
  {
   "cell_type": "code",
   "execution_count": null,
   "id": "f46c73a7",
   "metadata": {
    "scrolled": true
   },
   "outputs": [],
   "source": [
    "movie_ind_to_clean_ind = {}\n",
    "mp_clean_ind_to_ind = {}\n",
    "for i, ind in enumerate(movie_ind_with_scores):\n",
    "    if i <= 100: print(i, ind)\n",
    "    movie_ind_to_clean_ind[ind] = i\n",
    "    mp_clean_ind_to_ind[i] = ind"
   ]
  },
  {
   "cell_type": "code",
   "execution_count": null,
   "id": "585b2b3a",
   "metadata": {},
   "outputs": [],
   "source": [
    "for j, g in enumerate(genres):\n",
    "    if g not in genres_matching_tags: \n",
    "        continue\n",
    "    print(j,g)"
   ]
  },
  {
   "cell_type": "code",
   "execution_count": null,
   "id": "d43c5488",
   "metadata": {},
   "outputs": [],
   "source": [
    "for j, g in enumerate(genres):\n",
    "    if g not in genres_matching_tags: \n",
    "        continue\n",
    "    if g in ['action', 'adventure', 'crime', 'war', 'western']:\n",
    "        print(g, j)\n",
    "    if g in ['romance']:\n",
    "        print(g, j)\n"
   ]
  },
  {
   "cell_type": "code",
   "execution_count": null,
   "id": "8a89990f",
   "metadata": {},
   "outputs": [],
   "source": [
    "import sys\n",
    "def sizeof_fmt(num, suffix='B'):\n",
    "    ''' by Fred Cirera,  https://stackoverflow.com/a/1094933/1870254, modified'''\n",
    "    for unit in ['','Ki','Mi','Gi','Ti','Pi','Ei','Zi']:\n",
    "        if abs(num) < 1024.0:\n",
    "            return \"%3.1f %s%s\" % (num, unit, suffix)\n",
    "        num /= 1024.0\n",
    "    return \"%.1f %s%s\" % (num, 'Yi', suffix)\n",
    "\n",
    "for name, size in sorted(((name, sys.getsizeof(value)) for name, value in locals().items()),\n",
    "                         key= lambda x: -x[1])[:10]:\n",
    "    print(\"{:>30}: {:>8}\".format(name, sizeof_fmt(size)))"
   ]
  },
  {
   "cell_type": "markdown",
   "id": "2f18e1d8",
   "metadata": {},
   "source": [
    "## Simulation"
   ]
  },
  {
   "cell_type": "code",
   "execution_count": null,
   "id": "9ceb050c",
   "metadata": {},
   "outputs": [],
   "source": [
    "grps_set = [set(grps[0]), set(grps[1])]"
   ]
  },
  {
   "cell_type": "code",
   "execution_count": null,
   "id": "defcca46",
   "metadata": {},
   "outputs": [],
   "source": [
    "cnt1=0\n",
    "cnt2=0\n",
    "for u in user_ratings_for_movies_with_scores:\n",
    "    cnt1+=len(user_ratings_for_movies_with_scores[u])\n",
    "for u in user_ratings:\n",
    "    cnt2+=len(user_ratings[u])\n",
    "\n",
    "print(cnt1, cnt2)"
   ]
  },
  {
   "cell_type": "code",
   "execution_count": null,
   "id": "35e8e020",
   "metadata": {},
   "outputs": [],
   "source": [
    "for j, g in enumerate(genres):\n",
    "    if g not in genres_matching_tags: \n",
    "        continue\n",
    "    print(j,g)"
   ]
  },
  {
   "cell_type": "code",
   "execution_count": null,
   "id": "c90961bc",
   "metadata": {},
   "outputs": [],
   "source": [
    "weight_F = get_movie_dist_over_genre(1)\n",
    "len(weight_F)\n"
   ]
  },
  {
   "cell_type": "code",
   "execution_count": null,
   "id": "f16555b8",
   "metadata": {},
   "outputs": [],
   "source": [
    "# grps_set = [set(grps[0]), set(grps[1])]\n",
    "\n",
    "\n",
    "#####################################\n",
    "### parameter of the submodular function\n",
    "### They specify the function with g1(x)=g1(x)=...=gm(x)=np.sqrt()\n",
    "#####################################\n",
    "func = lambda x: np.sqrt(x)\n",
    "func2 = lambda x: np.sqrt(x)\n",
    "weight_F = np.zeros(20) # parameter of the submodular function"
   ]
  },
  {
   "cell_type": "code",
   "execution_count": null,
   "id": "09968f82",
   "metadata": {},
   "outputs": [],
   "source": [
    "baseline_uncons = baseline_greedy_uncons\n",
    "alg_disj = algo_3_disjoint_attr\n",
    "def run_simulation(stereotypically_men_genre, num_of_genres=1, ITERS=2):\n",
    "\n",
    "    assert(num_of_genres <= len(stereotypically_men_genre))\n",
    "    fg=0\n",
    "    global weight_F\n",
    "\n",
    "    iterator = list(itertools.combinations(stereotypically_men_genre, num_of_genres))\n",
    "    for gen in tqdm(iterator):\n",
    "        weight_F = np.zeros(20)\n",
    "        for g in gen: \n",
    "            weight_F[g] = 1\n",
    "\n",
    "        LIST_baseline_uncons_OUTER = []\n",
    "        LIST_alg_disj_OUTER = []\n",
    "        LIST_opt_OUTER = []\n",
    "        ERR_LIST_baseline_uncons_OUTER = []\n",
    "        ERR_LIST_alg_disj_OUTER = []\n",
    "        ERR_LIST_opt_OUTER = []\n",
    "        \n",
    "\n",
    "        x = []\n",
    "\n",
    "        print(f'Genre: {[genres[g] for g in gen]}')\n",
    "\n",
    "        for k in tqdm([50, 100, 150, 200]): \n",
    "            list_baseline_uncons = []\n",
    "            list_alg_disj = []\n",
    "            list_opt = []\n",
    "\n",
    "            user_draws = rng.choice(len(selected_users), 10*ITERS)\n",
    "\n",
    "            ijk = -1\n",
    "            while len(list_alg_disj) < ITERS and ijk < 10*ITERS:\n",
    "                ijk += 1\n",
    "                u_id = selected_users[user_draws[ijk]]\n",
    "                m_inds = get_rated_movie_indices(u_id)\n",
    "\n",
    "                m_ind_to_i = {}\n",
    "                for i, ind in enumerate(m_inds): m_ind_to_i[ind] = i\n",
    "\n",
    "                n = len(m_inds)\n",
    "                m = len(genres_matching_tags)\n",
    "\n",
    "                if n < k: continue \n",
    "\n",
    "                obs_util = np.zeros((n, m))\n",
    "\n",
    "                # Get relevance scores (observed utilities)\n",
    "                for i in range(n):\n",
    "                    for j in range(m):\n",
    "                        m_ind = m_inds[i]\n",
    "                        g = rev_tags[genres_matching_tags[j]] # name of j-th genre \n",
    "\n",
    "                        obs_util[i][j] = movie_tag_rel_scores[m_ind][g]\n",
    "        \n",
    "                # Create protected groups\n",
    "                grps_int = [[], []]\n",
    "                for i in range(n):\n",
    "                    m_ind = m_inds[i]\n",
    "\n",
    "                    if m_ind in grps_set[0]:\n",
    "                        grps_int[0].append(i)\n",
    "                    elif m_ind in grps_set[1]:\n",
    "                        grps_int[1].append(i)\n",
    "                    else:\n",
    "                        assert(False)\n",
    "    \n",
    "\n",
    "                # Skip this iteration if the current user has not liked at least (16.66)% men-lead and 16.66% non-male led movies\n",
    "                if len(grps_int[0]) == 0 or len(grps_int[1]) == 0:\n",
    "                    continue \n",
    "                if len(grps_int[1]) <= 0.2 * len(grps_int[0]) or len(grps_int[0]) <= 0.2 * len(grps_int[1]):\n",
    "                    continue \n",
    "                    \n",
    "                # compute OPT utility\n",
    "                score_list = []\n",
    "                for i in range(n):\n",
    "                    m_ind = m_inds[i]\n",
    "                    r = movie_rating_sum[m_ind]/movie_rating_cnt[m_ind]\n",
    "                    score_list.append(r)\n",
    "\n",
    "                # Run algorithms and baselines\n",
    "                sol_baseline_uncons = baseline_uncons(obs_util, grps_int, k, m)\n",
    "                sol_alg_disj = alg_disj(obs_util, grps_int, k, m) \n",
    "\n",
    "                # Record results\n",
    "                util_baseline_uncons = get_score_rating_overall_users(sol_baseline_uncons, m_inds, m_ind_to_i) / k\n",
    "                util_alg_disj = get_score_rating_overall_users(sol_alg_disj, m_inds, m_ind_to_i) / k\n",
    "                util_opt = np.sum(sorted(score_list)[::-1][:k]) / k\n",
    "                \n",
    "                list_baseline_uncons.append(util_baseline_uncons) \n",
    "                list_alg_disj.append(util_alg_disj) \n",
    "                list_opt.append(util_opt)\n",
    "\n",
    "            x.append(k)\n",
    "\n",
    "            LIST_baseline_uncons_OUTER.append(np.mean(list_baseline_uncons))\n",
    "            LIST_alg_disj_OUTER.append(np.mean(list_alg_disj))\n",
    "            LIST_opt_OUTER.append(np.mean(list_opt))\n",
    "\n",
    "            ERR_LIST_baseline_uncons_OUTER.append(np.std(list_baseline_uncons) / np.sqrt(ITERS))\n",
    "            ERR_LIST_alg_disj_OUTER.append(np.std(list_alg_disj) / np.sqrt(ITERS))\n",
    "            ERR_LIST_opt_OUTER.append(np.std(list_opt) / np.sqrt(ITERS))\n",
    "\n",
    "        x = np.array(x)\n",
    "        y_uncons = np.array(LIST_baseline_uncons_OUTER)\n",
    "        y_disj = np.array(LIST_alg_disj_OUTER)\n",
    "        y_opt = np.array(LIST_opt_OUTER)\n",
    "\n",
    "        y_uncons_err = np.array(ERR_LIST_baseline_uncons_OUTER)\n",
    "        y_disj_err = np.array(ERR_LIST_alg_disj_OUTER)\n",
    "        y_opt_err = np.array(ERR_LIST_opt_OUTER)\n",
    "\n",
    "        fig, ax = plt.subplots()\n",
    "        plt.errorbar(x, y_uncons, yerr=y_uncons_err, color=\"red\", label='Uncons',  linewidth=6, alpha=1.0)\n",
    "        plt.errorbar(x+1, y_disj, yerr=y_disj_err, color=\"Blue\", label='Algorithm 2 (Disjoint)',  linewidth=6, alpha=1.0)\n",
    "\n",
    "\n",
    "        print(f'y_uncons = {y_uncons}')\n",
    "        print(f'y_disj = {y_disj}')\n",
    "        print(f'y_uncons_err = {y_uncons_err}')\n",
    "        print(f'y_disj_err = {y_disj_err}')\n",
    "        print(f'Ratio of opt for uncons= {y_uncons/y_opt}')\n",
    "        print(f'Ratio of opt for Disj= {y_disj/y_opt}')\n",
    "\n",
    "\n",
    "        plt.title(f'ITER={ITERS}, genre={[genres[g] for g in gen]}, thresh=0.8', fontsize=18)\n",
    "        plt.ylim(3, 4)\n",
    "        ax.set_ylabel('$\\\\frac{1}{k}\\\\cdot$ (Average User Rating of Recommendation)',fontsize=26)\n",
    "        ax.set_xlabel('$k$', fontsize=32)\n",
    "        legend = plt.legend(loc='best', shadow=False, fontsize=26)\n",
    "        plt.tick_params(axis='both', which='major', labelsize=26)\n",
    "\n",
    "        # plt.show()\n",
    "        pdf_savefig()\n",
    "        \n",
    "        fig, ax = plt.subplots()\n",
    "        plt.errorbar(x, y_uncons, yerr=y_uncons_err, color=\"red\", label='Uncons',  linewidth=6, alpha=1.0)\n",
    "        plt.errorbar(x+1, y_disj, yerr=y_disj_err, color=\"Blue\", label='Algorithm 2 (Disjoint)',  linewidth=6, alpha=1.0)\n",
    "\n",
    "\n",
    "        print(f'y_uncons = {y_uncons}')\n",
    "        print(f'y_disj = {y_disj}')\n",
    "        print(f'y_uncons_err = {y_uncons_err}')\n",
    "        print(f'y_disj_err = {y_disj_err}')\n",
    "        print(f'Ratio of opt for uncons= {y_uncons/y_opt}')\n",
    "        print(f'Ratio of opt for Disj= {y_disj/y_opt}')\n",
    "\n",
    "\n",
    "        plt.title(f'ITER={ITERS}, genre={[genres[g] for g in gen]}, thresh=0.8', fontsize=18)\n",
    "        plt.ylim(3.25, 3.65)\n",
    "        ax.set_ylabel('$\\\\frac{1}{k}\\\\cdot$ (Average User Rating of Recommendation)',fontsize=26)\n",
    "        ax.set_xlabel('$k$', fontsize=32)\n",
    "        legend = plt.legend(loc='best', shadow=False, fontsize=26)\n",
    "        plt.tick_params(axis='both', which='major', labelsize=26)\n",
    "\n",
    "        # plt.show()\n",
    "        pdf_savefig()\n",
    "        \n",
    "        fig, ax = plt.subplots()\n",
    "        plt.errorbar(x, y_uncons, yerr=y_uncons_err, color=\"red\", label='Uncons',  linewidth=6, alpha=1.0)\n",
    "        plt.errorbar(x+1, y_disj, yerr=y_disj_err, color=\"Blue\", label='Algorithm 2 (Disjoint)',  linewidth=6, alpha=1.0)\n",
    "\n",
    "\n",
    "        print(f'y_uncons = {y_uncons}')\n",
    "        print(f'y_disj = {y_disj}')\n",
    "        print(f'y_uncons_err = {y_uncons_err}')\n",
    "        print(f'y_disj_err = {y_disj_err}')\n",
    "        print(f'Ratio of opt for uncons= {y_uncons/y_opt}')\n",
    "        print(f'Ratio of opt for Disj= {y_disj/y_opt}')\n",
    "\n",
    "\n",
    "        plt.title(f'ITER={ITERS}, genre={[genres[g] for g in gen]}, thresh=0.8', fontsize=18)\n",
    "        plt.ylim(3.5, 3.8)\n",
    "        ax.set_ylabel('$\\\\frac{1}{k}\\\\cdot$ (Average User Rating of Recommendation)',fontsize=26)\n",
    "        ax.set_xlabel('$k$', fontsize=32)\n",
    "        legend = plt.legend(loc='best', shadow=False, fontsize=26)\n",
    "        plt.tick_params(axis='both', which='major', labelsize=26)\n",
    "\n",
    "        # plt.show()\n",
    "        pdf_savefig()\n",
    "        \n"
   ]
  },
  {
   "cell_type": "markdown",
   "id": "4ecea5e6",
   "metadata": {},
   "source": [
    "# Simulation "
   ]
  },
  {
   "cell_type": "code",
   "execution_count": null,
   "id": "e4a443af",
   "metadata": {},
   "outputs": [],
   "source": [
    "run_simulation(stereotypically_men_genre=[1, 2, 6, 18, 19], num_of_genres=1, ITERS=100)\n",
    "run_simulation(stereotypically_men_genre=[1, 2, 6, 18, 19], num_of_genres=2, ITERS=100)\n",
    "run_simulation(stereotypically_men_genre=[1, 2, 6, 18, 19], num_of_genres=3, ITERS=100)\n",
    "run_simulation(stereotypically_men_genre=[1, 2, 6, 18, 19], num_of_genres=4, ITERS=100)\n",
    "run_simulation(stereotypically_men_genre=[1, 2, 6, 18, 19], num_of_genres=5, ITERS=100)"
   ]
  }
 ],
 "metadata": {
  "kernelspec": {
   "display_name": "Python 3",
   "language": "python",
   "name": "python3"
  },
  "language_info": {
   "codemirror_mode": {
    "name": "ipython",
    "version": 3
   },
   "file_extension": ".py",
   "mimetype": "text/x-python",
   "name": "python",
   "nbconvert_exporter": "python",
   "pygments_lexer": "ipython3",
   "version": "3.9.9"
  },
  "toc": {
   "base_numbering": 1,
   "nav_menu": {},
   "number_sections": true,
   "sideBar": true,
   "skip_h1_title": false,
   "title_cell": "Table of Contents",
   "title_sidebar": "Contents",
   "toc_cell": true,
   "toc_position": {
    "height": "calc(100% - 180px)",
    "left": "10px",
    "top": "150px",
    "width": "287.4px"
   },
   "toc_section_display": true,
   "toc_window_display": true
  }
 },
 "nbformat": 4,
 "nbformat_minor": 5
}
