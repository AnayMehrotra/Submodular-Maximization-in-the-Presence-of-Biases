{
 "cells": [
  {
   "cell_type": "markdown",
   "id": "94e997a0",
   "metadata": {
    "toc": true
   },
   "source": [
    "<h1>Table of Contents<span class=\"tocSkip\"></span></h1>\n",
    "<div class=\"toc\"><ul class=\"toc-item\"></ul></div>"
   ]
  },
  {
   "cell_type": "code",
   "execution_count": 1,
   "id": "673774f4",
   "metadata": {},
   "outputs": [],
   "source": [
    "import numpy as np\n",
    "import sys\n",
    "import random\n",
    "import copy\n",
    "import string\n",
    "import time\n",
    "import datetime\n",
    "from tqdm import tqdm\n",
    "from scipy.stats import pareto\n",
    "import matplotlib.pyplot as plt\n",
    "from matplotlib import rc, rcParams\n",
    "rng = np.random.default_rng(int(time.time()))"
   ]
  },
  {
   "cell_type": "code",
   "execution_count": 2,
   "id": "793a5d43",
   "metadata": {},
   "outputs": [],
   "source": [
    "exec(open('../utils.py').read())"
   ]
  },
  {
   "cell_type": "code",
   "execution_count": 3,
   "id": "b2096ad2",
   "metadata": {},
   "outputs": [],
   "source": [
    "exec(open('../utils-extended.py').read())"
   ]
  },
  {
   "cell_type": "code",
   "execution_count": 4,
   "id": "e0205cb0",
   "metadata": {},
   "outputs": [],
   "source": [
    "SAME_G = True\n",
    "\n",
    "DEBUG = False\n",
    "def print_debug(s):\n",
    "    if DEBUG: print(s)\n"
   ]
  },
  {
   "cell_type": "code",
   "execution_count": 5,
   "id": "d4275fee",
   "metadata": {},
   "outputs": [],
   "source": [
    "exec(open('../algorithms.py').read())"
   ]
  },
  {
   "cell_type": "code",
   "execution_count": 6,
   "id": "c6bf64b9",
   "metadata": {
    "code_folding": [
     0,
     29
    ]
   },
   "outputs": [],
   "source": [
    "def generator(beta, n, m, T, p, alpha, f, delta):\n",
    "    n_f = int(n*f)\n",
    "\n",
    "    lat_util = np.zeros((n,3))\n",
    "\n",
    "    # Initialize utilities\n",
    "    rand_bits = (rng.random(n) < p)\n",
    "    \n",
    "    items = pareto.rvs(delta, size=n) # other artists\n",
    "    for i in range(n):\n",
    "        jj = int(rng.random()*m)\n",
    "        lat_util[i][jj] = items[i]\n",
    "    \n",
    "    # generate protected groups\n",
    "    grp_men = set(rng.choice(n, n - n_f, replace=False))\n",
    "    all = set([i for i in range(n)])\n",
    "    grps = [grp_men, all.difference(grp_men)]\n",
    "\n",
    "    # generate observed utility\n",
    "    obs_util = copy.deepcopy(lat_util)\n",
    "    for i in grps[1]:\n",
    "        for j in range(m):\n",
    "            obs_util[i][j] *= beta\n",
    "\n",
    "    print_debug((obs_util == lat_util).all())\n",
    "    \n",
    "    return lat_util, obs_util, grps\n",
    "\n",
    "\n",
    "def get_details_top_k(sol, k):\n",
    "    other_artists = set([i+n_alpha for i in range(n-n_alpha)])\n",
    "    other_artists = other_artists.intersection(sol)\n",
    "    other_artists_utils  = marg_F_mult(set(), other_artists, lat_util, m)\n",
    "    top_5_other_artists = get_top_n(other_artists, other_artists_utils, k)\n",
    "    print(\"other: \")\n",
    "    for i in top_5_other_artists:\n",
    "        print_details(i, lat_util, obs_util)\n",
    "\n",
    "    emerging_artists = set([i for i in range(n_alpha)])\n",
    "    emerging_artists = emerging_artists.intersection(sol)\n",
    "    emerging_artists_utils  = marg_F_mult(set(), emerging_artists, lat_util, m)\n",
    "    top_5_emerging_artists = get_top_n(emerging_artists, emerging_artists_utils, k)\n",
    "    print('')\n",
    "    print(\"emerg: \")\n",
    "    for i in top_5_emerging_artists:\n",
    "        print_details(i, lat_util, obs_util)"
   ]
  },
  {
   "cell_type": "code",
   "execution_count": 7,
   "id": "4b45c9d4",
   "metadata": {},
   "outputs": [],
   "source": [
    "baseline_uncons = baseline_greedy_uncons\n",
    "algo_disj = algo_3_disjoint_attr\n",
    "\n",
    "algorithms = [baseline_uncons, algo_disj\n",
    "colors = ['red', 'blue']\n",
    "names = ['Uncons', 'Algorithm 1'] \n",
    "styles = ['-', '-'] \n",
    "\n",
    "# parameters\n",
    "ITER = -1; n = 0; k = 0; m = 0\n",
    "T = 0; p = 0; alpha = -1\n",
    "f_list = []\n",
    "delta_list = []\n",
    "\n",
    "f = -1; delta = -1\n",
    "\n",
    "SAME_G = True\n",
    "func = lambda x: np.log(1 + x) \n",
    "func2 = lambda x: np.log(1 + x)\n",
    "\n",
    "\n",
    "def run(T=1, p=0.9, alpha=0.0, f=0.5, delta=1):\n",
    "    SAME_G = True\n",
    "    func = lambda x: np.log(1 + x) \n",
    "    func2 = lambda x: np.log(1 + x)\n",
    "    \n",
    "    # T: max plays of emerging artist\n",
    "    # p: probability new song (seems robust to the choice of p)\n",
    "    # alpha: fraction of emerging artists\n",
    "\n",
    "    # parameters\n",
    "    ITER = 20\n",
    "    n = 250\n",
    "    k = 50\n",
    "    m = 3\n",
    "\n",
    "    DEBUG = False\n",
    "\n",
    "    x=[]\n",
    "    ys = [[] for i in range(len(algorithms))]\n",
    "    yerrs = [[] for i in range(len(algorithms))]\n",
    "\n",
    "    for beta in [0.01, 0.1, 0.2, 0.3, 0.5, 0.7, 0.8, 0.9, 0.95, 1]:\n",
    "        lists = [[] for i in range(len(algorithms))]\n",
    "\n",
    "        for ijk in range(ITER):\n",
    "            lat_util, obs_util, grps = generator(beta, n, m, T, p, alpha, f, delta)\n",
    "            n_alpha = int(n*alpha)\n",
    "            n_f = int(n*f)\n",
    "            \n",
    "            sols = []\n",
    "            utils = []\n",
    "            \n",
    "            # run algorithms and baselines\n",
    "            sol_opt = baseline_uncons(lat_util, grps, k, m)\n",
    "            util_opt = F(sol_opt, lat_util, m)\n",
    "            for algo in algorithms: sols.append(algo(obs_util, grps, k, m))\n",
    "            for s in sols: utils.append(F(s, lat_util, m))\n",
    "            \n",
    "            for i, u in enumerate(utils): lists[i].append(u / util_opt)\n",
    "\n",
    "        for i, u in enumerate(lists): ys[i].append(np.mean(lists[i]))\n",
    "        for i, u in enumerate(lists): yerrs[i].append(np.std(lists[i]) / np.sqrt(ITER))\n",
    "        \n",
    "        x.append(beta)\n",
    "\n",
    "    fig, ax = plt.subplots()\n",
    "    x = np.array(x)\n",
    "    for i, u in enumerate(lists):\n",
    "        plt.errorbar(x, ys[i], yerr=yerrs[i], linestyle=styles[i],color=colors[i], label=names[i],  linewidth=8, alpha=1.0)\n",
    "    \n",
    "    plt.title(f'Simulation with parameters:'\n",
    "             +f'n={n}, k={k}, frac.-of-non-men={f},SAME_G={SAME_G} (log(1+x))\\n'\n",
    "             +f'm={m}, power-law-dist (delta={delta}), ITER={ITER}, weight_F={np.round(weight_F,2)}\\n\\n', fontsize=18)\n",
    "    plt.ylim(0.75, 1.01)\n",
    "    ax.set_ylabel('Normalized Latent Utility',fontsize=32)\n",
    "    ax.set_xlabel('$\\\\beta$', fontsize=34)\n",
    "    legend = plt.legend(loc='best', shadow=False, fontsize=26)\n",
    "    plt.tick_params(axis='both', which='major', labelsize=26)  \n",
    "    \n",
    "    print()\n",
    "    for i, u in enumerate(lists): print(f'{names[i]}: {ys[i]}')\n",
    "    for i, u in enumerate(lists): print(f'{names[i]}_err: {yerrs[i]}')\n",
    "    \n",
    "    # plt.show()\n",
    "    pdf_savefig()\n"
   ]
  },
  {
   "cell_type": "code",
   "execution_count": 12,
   "id": "057d715d",
   "metadata": {
    "scrolled": false
   },
   "outputs": [
    {
     "name": "stderr",
     "output_type": "stream",
     "text": [
      "\r",
      "  0%|                                                     | 0/3 [00:00<?, ?it/s]"
     ]
    },
    {
     "name": "stdout",
     "output_type": "stream",
     "text": [
      "\n",
      "Uncons: [0.9196005991350843, 0.9636899560035121, 0.9815641699169703, 0.9900188340465299, 0.9956152012570948, 0.9988848505660366, 0.9995672204108287, 0.999919577838732, 0.9999862069013382, 1.0]\n",
      "Algorithm 1: [0.9951077547338916, 0.9949093786962445, 0.9955155953307413, 0.9961183825104969, 0.9968377216413609, 0.9965303219149598, 0.9976842841941369, 0.9982083854216937, 0.997835034972411, 0.9974514495639436]\n",
      "Uncons_err: [0.014149875225964401, 0.003056749002802954, 0.0022683686656580584, 0.001220624945199142, 0.0005478092331101649, 0.00018940270342882775, 9.625484988441315e-05, 2.0815971746148853e-05, 5.285439791548889e-06, 0.0]\n",
      "Algorithm 1_err: [0.0007258657695884042, 0.0009609531148303691, 0.0010061627319496256, 0.0005623816339149009, 0.0005886758984834714, 0.0007737427257210899, 0.0003220208710564283, 0.0003804017480466851, 0.0005833209702991243, 0.00048015201573681427]\n",
      "./figs/H21M49S21_07-19-23pmmcs.pdf\n"
     ]
    },
    {
     "name": "stderr",
     "output_type": "stream",
     "text": [
      "\r",
      " 33%|███████████████                              | 1/3 [01:17<02:35, 77.98s/it]"
     ]
    },
    {
     "name": "stdout",
     "output_type": "stream",
     "text": [
      "\n",
      "Uncons: [0.9340029374923011, 0.9441292585213056, 0.9482809129254376, 0.9631137686687449, 0.9834928266931307, 0.9945859542957851, 0.9979249194291437, 0.9994506944426271, 0.9998791005321259, 1.0]\n",
      "Algorithm 1: [0.9942561056991066, 0.9945972355774952, 0.9946585323575133, 0.995664915297614, 0.9954749946374056, 0.9969529038600637, 0.9976300503212855, 0.9975205841184736, 0.9975805345008263, 0.9972737644293975]\n",
      "Uncons_err: [0.00804504644426258, 0.005166304526882395, 0.003985186344953361, 0.0022569512352299636, 0.0010380280664554595, 0.00041225924802117266, 0.0002478251803092695, 8.131022494520739e-05, 2.3638740615510112e-05, 0.0]\n",
      "Algorithm 1_err: [0.0011662347632730003, 0.0010593673018788913, 0.0009416627073572461, 0.0007210640009031435, 0.0009357420185826012, 0.0005374571842005947, 0.0003971583914128529, 0.0004978690898751213, 0.0005589009035450738, 0.00033922417192715584]\n",
      "./figs/H21M50S38_07-19-23genxf.pdf\n"
     ]
    },
    {
     "name": "stderr",
     "output_type": "stream",
     "text": [
      "\r",
      " 67%|██████████████████████████████               | 2/3 [02:35<01:17, 77.78s/it]"
     ]
    },
    {
     "name": "stdout",
     "output_type": "stream",
     "text": [
      "\n",
      "Uncons: [0.9495057374564556, 0.9513564916515473, 0.9576366618504331, 0.9646953625206367, 0.9771305695614402, 0.9918911776123419, 0.9966582444776814, 0.999000900862795, 0.9997438811277422, 1.0]\n",
      "Algorithm 1: [0.995500946839077, 0.9964527457682768, 0.9951930225206598, 0.9962658530372817, 0.9955065701518524, 0.9969433453043299, 0.997026254670193, 0.9971576483525146, 0.9976176563581675, 0.9982389065429033]\n",
      "Uncons_err: [0.005142636861861907, 0.0036555467084184562, 0.003539381660261742, 0.00285018520905757, 0.0018407365425365924, 0.0008219606752770284, 0.0003756948655740044, 0.0001316988440682176, 4.348898598558094e-05, 0.0]\n",
      "Algorithm 1_err: [0.0005629345461806995, 0.0005299094143861526, 0.001211230782471348, 0.0006299384212557407, 0.0006296203907408405, 0.0005183551788821773, 0.0004486523905039311, 0.0003906404964776291, 0.0004746395005696988, 0.0003610312837776483]\n",
      "./figs/H21M52S05_07-19-23vbsni.pdf\n"
     ]
    },
    {
     "name": "stderr",
     "output_type": "stream",
     "text": [
      "100%|█████████████████████████████████████████████| 3/3 [04:02<00:00, 80.76s/it]\n",
      "  0%|                                                     | 0/3 [00:00<?, ?it/s]"
     ]
    },
    {
     "name": "stdout",
     "output_type": "stream",
     "text": [
      "\n",
      "Uncons: [0.8482888933226883, 0.9495900674279916, 0.9723788795305468, 0.9802358509246135, 0.9941425562793009, 0.9984316943255169, 0.9994171683883035, 0.9999018243113129, 0.9999524224482581, 1.0]\n",
      "Algorithm 1: [0.9936712061727349, 0.9966452409485473, 0.9935456179995338, 0.995401030854911, 0.9967604573771645, 0.995845996322495, 0.9939988187989751, 0.9913180104426267, 0.9959196423373177, 0.996324824396134]\n",
      "Uncons_err: [0.017848207284139734, 0.00622076616001449, 0.0033435245080675525, 0.0024148637870093663, 0.0006557782592387556, 0.00020903692546511948, 9.156029524975585e-05, 2.322996183959127e-05, 1.1898190597550016e-05, 0.0]\n",
      "Algorithm 1_err: [0.0013309897794741585, 0.0004970824540985392, 0.0011444244209114771, 0.0006539832227313781, 0.0005924115748340114, 0.0006940295366568655, 0.001258909625023781, 0.0015509972025598239, 0.00049551428610844, 0.0004877614562288235]\n",
      "./figs/H21M53S19_07-19-23yxwll.pdf\n"
     ]
    },
    {
     "name": "stderr",
     "output_type": "stream",
     "text": [
      " 33%|██████████████▋                             | 1/3 [01:51<03:42, 111.04s/it]\n"
     ]
    },
    {
     "ename": "KeyboardInterrupt",
     "evalue": "",
     "output_type": "error",
     "traceback": [
      "\u001b[0;31m---------------------------------------------------------------------------\u001b[0m",
      "\u001b[0;31mKeyboardInterrupt\u001b[0m                         Traceback (most recent call last)",
      "Cell \u001b[0;32mIn[12], line 11\u001b[0m\n\u001b[1;32m      9\u001b[0m \u001b[38;5;28;01mfor\u001b[39;00m f \u001b[38;5;129;01min\u001b[39;00m f_list:\n\u001b[1;32m     10\u001b[0m     \u001b[38;5;28;01mfor\u001b[39;00m delta \u001b[38;5;129;01min\u001b[39;00m tqdm(delta_list):\n\u001b[0;32m---> 11\u001b[0m         \u001b[43mrun\u001b[49m\u001b[43m(\u001b[49m\u001b[43mT\u001b[49m\u001b[38;5;241;43m=\u001b[39;49m\u001b[38;5;241;43m1\u001b[39;49m\u001b[43m,\u001b[49m\u001b[43m \u001b[49m\u001b[43mp\u001b[49m\u001b[38;5;241;43m=\u001b[39;49m\u001b[38;5;241;43m0.9\u001b[39;49m\u001b[43m,\u001b[49m\u001b[43m \u001b[49m\u001b[43malpha\u001b[49m\u001b[38;5;241;43m=\u001b[39;49m\u001b[38;5;241;43m0.0\u001b[39;49m\u001b[43m,\u001b[49m\u001b[43m \u001b[49m\u001b[43mf\u001b[49m\u001b[38;5;241;43m=\u001b[39;49m\u001b[43mf\u001b[49m\u001b[43m,\u001b[49m\u001b[43m \u001b[49m\u001b[43mdelta\u001b[49m\u001b[38;5;241;43m=\u001b[39;49m\u001b[43mdelta\u001b[49m\u001b[43m)\u001b[49m\n",
      "Cell \u001b[0;32mIn[7], line 58\u001b[0m, in \u001b[0;36mrun\u001b[0;34m(T, p, alpha, f, delta)\u001b[0m\n\u001b[1;32m     55\u001b[0m utils \u001b[38;5;241m=\u001b[39m []\n\u001b[1;32m     57\u001b[0m \u001b[38;5;66;03m# run algorithms and baselines\u001b[39;00m\n\u001b[0;32m---> 58\u001b[0m sol_opt \u001b[38;5;241m=\u001b[39m \u001b[43mbaseline_uncons\u001b[49m\u001b[43m(\u001b[49m\u001b[43mlat_util\u001b[49m\u001b[43m,\u001b[49m\u001b[43m \u001b[49m\u001b[43mgrps\u001b[49m\u001b[43m,\u001b[49m\u001b[43m \u001b[49m\u001b[43mk\u001b[49m\u001b[43m,\u001b[49m\u001b[43m \u001b[49m\u001b[43mm\u001b[49m\u001b[43m)\u001b[49m\n\u001b[1;32m     59\u001b[0m util_opt \u001b[38;5;241m=\u001b[39m F(sol_opt, lat_util, m)\n\u001b[1;32m     60\u001b[0m \u001b[38;5;28;01mfor\u001b[39;00m algo \u001b[38;5;129;01min\u001b[39;00m algorithms: sols\u001b[38;5;241m.\u001b[39mappend(algo(obs_util, grps, k, m))\n",
      "File \u001b[0;32m<string>:8\u001b[0m, in \u001b[0;36mbaseline_greedy_uncons\u001b[0;34m(obs_util, grps, k, m, pr)\u001b[0m\n",
      "File \u001b[0;32m<string>:78\u001b[0m, in \u001b[0;36mmarg_F_mult\u001b[0;34m(sol, items, obs_util, m, pr)\u001b[0m\n",
      "\u001b[0;31mKeyboardInterrupt\u001b[0m: "
     ]
    },
    {
     "name": "stdout",
     "output_type": "stream",
     "text": [
      "Error in callback <function flush_figures at 0x12935fd30> (for post_execute):\n"
     ]
    },
    {
     "name": "stderr",
     "output_type": "stream",
     "text": [
      "\n",
      "KeyboardInterrupt\n",
      "\n"
     ]
    }
   ],
   "source": [
    "f_list = [0.25, 0.5, 0.75]\n",
    "delta_list = [1.0, 2, 3.0]\n",
    "weight_F = [1, 1, 1]\n",
    "\n",
    "for f in f_list:\n",
    "    for delta in tqdm(delta_list):\n",
    "        run(T=1, p=0.9, alpha=0.0, f=f, delta=delta)\n",
    "        "
   ]
  },
  {
   "cell_type": "code",
   "execution_count": null,
   "id": "a2ef9873",
   "metadata": {},
   "outputs": [],
   "source": []
  }
 ],
 "metadata": {
  "kernelspec": {
   "display_name": "Python 3",
   "language": "python",
   "name": "python3"
  },
  "language_info": {
   "codemirror_mode": {
    "name": "ipython",
    "version": 3
   },
   "file_extension": ".py",
   "mimetype": "text/x-python",
   "name": "python",
   "nbconvert_exporter": "python",
   "pygments_lexer": "ipython3",
   "version": "3.9.9"
  },
  "toc": {
   "base_numbering": 1,
   "nav_menu": {},
   "number_sections": true,
   "sideBar": true,
   "skip_h1_title": false,
   "title_cell": "Table of Contents",
   "title_sidebar": "Contents",
   "toc_cell": true,
   "toc_position": {},
   "toc_section_display": true,
   "toc_window_display": true
  }
 },
 "nbformat": 4,
 "nbformat_minor": 5
}
